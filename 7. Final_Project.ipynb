{
 "cells": [
  {
   "cell_type": "code",
   "execution_count": 1,
   "metadata": {},
   "outputs": [],
   "source": [
    "import matplotlib.pyplot as plt\n",
    "import matplotlib.ticker as ticker\n",
    "import numpy as np\n",
    "import pandas as pd\n",
    "import seaborn as sns\n",
    "from sklearn.preprocessing import StandardScaler\n",
    "from sklearn.metrics import roc_auc_score, accuracy_score, precision_score, recall_score, f1_score\n",
    "from sklearn.model_selection import GridSearchCV, train_test_split\n",
    "from sklearn.linear_model import LogisticRegression\n",
    "from sklearn.ensemble import RandomForestClassifier\n",
    "from lightgbm import LGBMClassifier\n",
    "\n",
    "import warnings\n",
    "warnings.filterwarnings(\"ignore\")\n",
    "\n",
    "np.random.seed(10)"
   ]
  },
  {
   "cell_type": "markdown",
   "metadata": {},
   "source": [
    "## Описание проекта\n",
    "\n",
    "Использование методов машинного обучения при одобрении кредитов. В качестве исходных данных используется датасет с кредитной историй клиентов взятый отсюда: https://www.kaggle.com/datasets/sarodeaditya/loan-defaulter-dataset\n",
    "\n",
    "Загрузим датасет и ознакомимся с ним."
   ]
  },
  {
   "cell_type": "code",
   "execution_count": 2,
   "metadata": {},
   "outputs": [
    {
     "data": {
      "text/html": [
       "<div>\n",
       "<style scoped>\n",
       "    .dataframe tbody tr th:only-of-type {\n",
       "        vertical-align: middle;\n",
       "    }\n",
       "\n",
       "    .dataframe tbody tr th {\n",
       "        vertical-align: top;\n",
       "    }\n",
       "\n",
       "    .dataframe thead th {\n",
       "        text-align: right;\n",
       "    }\n",
       "</style>\n",
       "<table border=\"1\" class=\"dataframe\">\n",
       "  <thead>\n",
       "    <tr style=\"text-align: right;\">\n",
       "      <th></th>\n",
       "      <th>Unnamed: 0</th>\n",
       "      <th>Unnamed: 0.1</th>\n",
       "      <th>member_id</th>\n",
       "      <th>loan_amnt</th>\n",
       "      <th>funded_amnt</th>\n",
       "      <th>funded_amnt_inv</th>\n",
       "      <th>term</th>\n",
       "      <th>int_rate</th>\n",
       "      <th>installment</th>\n",
       "      <th>grade</th>\n",
       "      <th>...</th>\n",
       "      <th>hardship_payoff_balance_amount</th>\n",
       "      <th>hardship_last_payment_amount</th>\n",
       "      <th>disbursement_method</th>\n",
       "      <th>debt_settlement_flag</th>\n",
       "      <th>debt_settlement_flag_date</th>\n",
       "      <th>settlement_status</th>\n",
       "      <th>settlement_date</th>\n",
       "      <th>settlement_amount</th>\n",
       "      <th>settlement_percentage</th>\n",
       "      <th>settlement_term</th>\n",
       "    </tr>\n",
       "  </thead>\n",
       "  <tbody>\n",
       "    <tr>\n",
       "      <th>0</th>\n",
       "      <td>0</td>\n",
       "      <td>13</td>\n",
       "      <td>NaN</td>\n",
       "      <td>18000.0</td>\n",
       "      <td>18000.0</td>\n",
       "      <td>18000.0</td>\n",
       "      <td>60 months</td>\n",
       "      <td>19.48</td>\n",
       "      <td>471.70</td>\n",
       "      <td>E</td>\n",
       "      <td>...</td>\n",
       "      <td>NaN</td>\n",
       "      <td>NaN</td>\n",
       "      <td>Cash</td>\n",
       "      <td>N</td>\n",
       "      <td>NaN</td>\n",
       "      <td>NaN</td>\n",
       "      <td>NaN</td>\n",
       "      <td>NaN</td>\n",
       "      <td>NaN</td>\n",
       "      <td>NaN</td>\n",
       "    </tr>\n",
       "    <tr>\n",
       "      <th>1</th>\n",
       "      <td>1</td>\n",
       "      <td>25</td>\n",
       "      <td>NaN</td>\n",
       "      <td>4225.0</td>\n",
       "      <td>4225.0</td>\n",
       "      <td>4225.0</td>\n",
       "      <td>36 months</td>\n",
       "      <td>14.85</td>\n",
       "      <td>146.16</td>\n",
       "      <td>C</td>\n",
       "      <td>...</td>\n",
       "      <td>NaN</td>\n",
       "      <td>NaN</td>\n",
       "      <td>Cash</td>\n",
       "      <td>N</td>\n",
       "      <td>NaN</td>\n",
       "      <td>NaN</td>\n",
       "      <td>NaN</td>\n",
       "      <td>NaN</td>\n",
       "      <td>NaN</td>\n",
       "      <td>NaN</td>\n",
       "    </tr>\n",
       "    <tr>\n",
       "      <th>2</th>\n",
       "      <td>2</td>\n",
       "      <td>30</td>\n",
       "      <td>NaN</td>\n",
       "      <td>16000.0</td>\n",
       "      <td>16000.0</td>\n",
       "      <td>16000.0</td>\n",
       "      <td>36 months</td>\n",
       "      <td>12.88</td>\n",
       "      <td>538.18</td>\n",
       "      <td>C</td>\n",
       "      <td>...</td>\n",
       "      <td>NaN</td>\n",
       "      <td>NaN</td>\n",
       "      <td>Cash</td>\n",
       "      <td>N</td>\n",
       "      <td>NaN</td>\n",
       "      <td>NaN</td>\n",
       "      <td>NaN</td>\n",
       "      <td>NaN</td>\n",
       "      <td>NaN</td>\n",
       "      <td>NaN</td>\n",
       "    </tr>\n",
       "    <tr>\n",
       "      <th>3</th>\n",
       "      <td>3</td>\n",
       "      <td>31</td>\n",
       "      <td>NaN</td>\n",
       "      <td>24250.0</td>\n",
       "      <td>24250.0</td>\n",
       "      <td>24250.0</td>\n",
       "      <td>60 months</td>\n",
       "      <td>24.24</td>\n",
       "      <td>701.01</td>\n",
       "      <td>F</td>\n",
       "      <td>...</td>\n",
       "      <td>NaN</td>\n",
       "      <td>NaN</td>\n",
       "      <td>Cash</td>\n",
       "      <td>N</td>\n",
       "      <td>NaN</td>\n",
       "      <td>NaN</td>\n",
       "      <td>NaN</td>\n",
       "      <td>NaN</td>\n",
       "      <td>NaN</td>\n",
       "      <td>NaN</td>\n",
       "    </tr>\n",
       "    <tr>\n",
       "      <th>4</th>\n",
       "      <td>4</td>\n",
       "      <td>33</td>\n",
       "      <td>NaN</td>\n",
       "      <td>25000.0</td>\n",
       "      <td>25000.0</td>\n",
       "      <td>25000.0</td>\n",
       "      <td>60 months</td>\n",
       "      <td>13.99</td>\n",
       "      <td>581.58</td>\n",
       "      <td>C</td>\n",
       "      <td>...</td>\n",
       "      <td>NaN</td>\n",
       "      <td>NaN</td>\n",
       "      <td>Cash</td>\n",
       "      <td>N</td>\n",
       "      <td>NaN</td>\n",
       "      <td>NaN</td>\n",
       "      <td>NaN</td>\n",
       "      <td>NaN</td>\n",
       "      <td>NaN</td>\n",
       "      <td>NaN</td>\n",
       "    </tr>\n",
       "  </tbody>\n",
       "</table>\n",
       "<p>5 rows × 152 columns</p>\n",
       "</div>"
      ],
      "text/plain": [
       "   Unnamed: 0  Unnamed: 0.1  member_id  loan_amnt  funded_amnt  \\\n",
       "0           0            13        NaN    18000.0      18000.0   \n",
       "1           1            25        NaN     4225.0       4225.0   \n",
       "2           2            30        NaN    16000.0      16000.0   \n",
       "3           3            31        NaN    24250.0      24250.0   \n",
       "4           4            33        NaN    25000.0      25000.0   \n",
       "\n",
       "   funded_amnt_inv        term  int_rate  installment grade  ...  \\\n",
       "0          18000.0   60 months     19.48       471.70     E  ...   \n",
       "1           4225.0   36 months     14.85       146.16     C  ...   \n",
       "2          16000.0   36 months     12.88       538.18     C  ...   \n",
       "3          24250.0   60 months     24.24       701.01     F  ...   \n",
       "4          25000.0   60 months     13.99       581.58     C  ...   \n",
       "\n",
       "  hardship_payoff_balance_amount hardship_last_payment_amount  \\\n",
       "0                            NaN                          NaN   \n",
       "1                            NaN                          NaN   \n",
       "2                            NaN                          NaN   \n",
       "3                            NaN                          NaN   \n",
       "4                            NaN                          NaN   \n",
       "\n",
       "  disbursement_method debt_settlement_flag  debt_settlement_flag_date  \\\n",
       "0                Cash                    N                        NaN   \n",
       "1                Cash                    N                        NaN   \n",
       "2                Cash                    N                        NaN   \n",
       "3                Cash                    N                        NaN   \n",
       "4                Cash                    N                        NaN   \n",
       "\n",
       "  settlement_status settlement_date settlement_amount settlement_percentage  \\\n",
       "0               NaN             NaN               NaN                   NaN   \n",
       "1               NaN             NaN               NaN                   NaN   \n",
       "2               NaN             NaN               NaN                   NaN   \n",
       "3               NaN             NaN               NaN                   NaN   \n",
       "4               NaN             NaN               NaN                   NaN   \n",
       "\n",
       "  settlement_term  \n",
       "0             NaN  \n",
       "1             NaN  \n",
       "2             NaN  \n",
       "3             NaN  \n",
       "4             NaN  \n",
       "\n",
       "[5 rows x 152 columns]"
      ]
     },
     "execution_count": 2,
     "metadata": {},
     "output_type": "execute_result"
    }
   ],
   "source": [
    "data = pd.read_csv('Loan_data.csv', sep=',', decimal='.', encoding='utf-8')\n",
    "data.head()"
   ]
  },
  {
   "cell_type": "markdown",
   "metadata": {},
   "source": [
    "Посмотрим сколько записей в нашем датасете."
   ]
  },
  {
   "cell_type": "code",
   "execution_count": 3,
   "metadata": {},
   "outputs": [
    {
     "data": {
      "text/plain": [
       "1007987"
      ]
     },
     "execution_count": 3,
     "metadata": {},
     "output_type": "execute_result"
    }
   ],
   "source": [
    "len(data)"
   ]
  },
  {
   "cell_type": "markdown",
   "metadata": {},
   "source": [
    "Для ускорения процесса работы моделей и обработки данных оставим 10% записей."
   ]
  },
  {
   "cell_type": "code",
   "execution_count": 4,
   "metadata": {},
   "outputs": [
    {
     "data": {
      "text/plain": [
       "100799"
      ]
     },
     "execution_count": 4,
     "metadata": {},
     "output_type": "execute_result"
    }
   ],
   "source": [
    "data = data.sample(frac=0.1, random_state=42)\n",
    "data = data.reset_index(drop=True)\n",
    "len(data)"
   ]
  },
  {
   "cell_type": "markdown",
   "metadata": {},
   "source": [
    "## Описание столбцов\n",
    "\n",
    "- 'loan_amnt' - сумма кредита,\n",
    "- 'funded_amnt' - общая сумма кредита выделенная инвесторами,\n",
    "- 'funded_amnt_inv' - Общая сумма, выделенная инвесторами для этого кредита на данный момент времени,\n",
    "- 'term' - срок кредита,\n",
    "- 'int_rate' - процентная ставка,\n",
    "- 'installment' - ежемесячный платеж,\n",
    "- 'grade' - присвоенный кредитный рейтинг,\n",
    "- 'sub_grade' - расширенная классификация рейтинга,\n",
    "- 'emp_title' - профессия,\n",
    "- 'emp_length' - срок работы,\n",
    "- 'home_ownership' - тип владения имуществом,\n",
    "- 'annual_inc' - годовой доход,\n",
    "- 'verification_status' - статус проверки,\n",
    "- 'issue_d' - дата кредита,\n",
    "- 'loan_status' - статус кредита,\n",
    "- 'pymnt_plan' - план платежей,\n",
    "- 'url',\n",
    "- 'desc' - Описание кредита, предоставленное заемщиком,\n",
    "- 'purpose' - цель кредита,\n",
    "- 'title' - расширенная цель кредита,\n",
    "- 'zip_code' - индекс,\n",
    "- 'addr_state' - адрес,\n",
    "- 'dti' - Соотношение долга заемщика к доходу, рассчитанное путем деления ежемесячных платежей по общей сумме долговых обязательств, за исключением ипотеки, на собственную,\n",
    "- 'delinq_2yrs' - количество дней, прошедших 30+,\n",
    "- 'earliest_cr_line' - дата открытия первого кредита,\n",
    "- 'fico_range_low' - нижняя граница, к которому относится fico заемщика,\n",
    "- 'fico_range_high' - верхняя граница, к которому относится fico заемщика,\n",
    "- 'inq_last_6mths' - количество обращений кредитов за последний 6 месяцев,\n",
    "- 'mths_since_last_delinq' - количество месяцев с последней просрочки кредита,\n",
    "- 'mths_since_last_record' - количество месяцев с последней записи,\n",
    "- 'open_acc' - количество открытых кредитов,\n",
    "- 'pub_rec' - количество публичных записей,\n",
    "- 'revol_bal' - возобновляемый баланс,\n",
    "- 'revol_util' - Коэффициент использования возобновляемой линии или сумма кредита, которую заемщик использует по отношению ко всему доступному возобновляемому кредиту,\n",
    "- 'total_acc' - количество всех кредитов,\n",
    "- 'initial_list_status' - первоначальный статус кредита,\n",
    "- 'out_prncp'; 'out_prncp_inv' - Оставшаяся непогашенная основная сумма на общую сумму финансирования,\n",
    "- 'total_pymnt'; 'total_pymnt_inv' - сумма платежей полученная по всем кредитам,\n",
    "- 'total_rec_prncp' - основная сумма полученная на сегодня,\n",
    "- 'total_rec_int' - выплаченные проценты,\n",
    "- 'total_rec_late_fee' - полученные пени,\n",
    "- 'recoveries' - последующие списания,\n",
    "- 'collection_recovery_fee' - последующие пени, полученные коллекторами,\n",
    "- 'last_pymnt_d' - последняя дата платежа,\n",
    "- 'last_pymnt_amnt' - сумма последнего платежа,\n",
    "- 'next_pymnt_d' - следующая дата платежа,\n",
    "- 'last_credit_pull_d' - ближайшая дата, по которой кредитор отзвал кредит,\n",
    "- 'last_fico_range_high' - последняя верхняя граница, к которому относится fico заемщика,\n",
    "- 'last_fico_range_low' - последняя нижняя граница, к которому относится fico заемщика,\n",
    "- 'collections_12_mths_ex_med' - Количество сборов за 12 месяцев без учета медицинских сборов,\n",
    "- 'mths_since_last_major_derog' - количество месяцев с 90+,\n",
    "- 'policy_code' - код полиса,\n",
    "- 'application_type' - тип приложения,\n",
    "- 'annual_inc_joint' - Совокупный годовой доход, о котором сами сообщили созаемщики при регистрации,\n",
    "- 'dti_joint' - Коэффициент, рассчитанный с использованием общих ежемесячных платежей созаемщиков по общим долговым обязательствам, исключая ипотечные кредиты и запрошенный кредит LC, деленный на совокупный ежемесячный доход созаемщиков, о котором они сами сообщили.,\n",
    "- 'verification_status_joint' - Указывает, был ли совместный доход созаемщиков ,\n",
    "- 'acc_now_delinq' - Количество счетов, по которым заемщик в настоящее время является неплатежеспособным.,\n",
    "- 'tot_coll_amt' - общая сумма выданных счетов,\n",
    "- 'tot_cur_bal' - общий текущий баланс по всем счетам,\n",
    "- 'open_acc_6m' - открытые счета 6 месяцев назад,\n",
    "- 'open_act_il' - количество активных рассрочек/платежей,\n",
    "- 'open_il_12m' - количество активных рассрочек/платежей за последние 12 месяцев,\n",
    "- 'open_il_24m' - количество аквтивных рассрочек/платежей за последние 24 месяца,\n",
    "- 'mths_since_rcnt_il' - количество месяцев с последней рассрочки,\n",
    "- 'total_bal_il' - общий баланс по рассрочкам,\n",
    "- 'il_util' - Отношение общего текущего баланса к высокому кредиту/кредитному лимиту по всем платежам,\n",
    "- 'open_rv_12m' - Количество возобновляемых сделок, открытых за последние 12 месяцев,\n",
    "- 'open_rv_24m' - Количество возобновляемых сделок, открытых за последние 24 месяцев,\n",
    "- 'max_bal_bc' - Максимальный текущий остаток задолженности по всем возобновляемым счетам,\n",
    "- 'all_util' - баланс до кредитного лимита по всем сделкам,\n",
    "- 'total_rev_hi_lim' - Общий возобновляемый высокий кредит/кредитный лимит,\n",
    "- 'inq_fi' - Количество запросов о личных финансах,\n",
    "- 'total_cu_tl' - количество сделок,\n",
    "- 'inq_last_12m' - количество кредитных запросов за последние 12 месяцев,\n",
    "- 'acc_open_past_24mths' - количество сделок, открытых за последние 24 месяца,\n",
    "- 'avg_cur_bal' - средний текущий баланс,\n",
    "- 'bc_open_to_buy' - баланс, открытый для покупок,\n",
    "- 'bc_util' - Отношение общего текущего баланса к высокому кредиту/кредитному лимиту для всех счетов банковских карт.,\n",
    "- 'chargeoff_within_12_mths' - количество списаний за последние 12 месяцев,\n",
    "- 'delinq_amnt' - Просроченная сумма задолженности по счетам, по которым заемщик в настоящее время просрочен.,\n",
    "- 'mo_sin_old_il_acct' - Количество месяцев с последнего открытого счета в рассрочку,\n",
    "- 'mo_sin_old_rev_tl_op' - Количество месяцев с первого открытого возобновляемого счета,\n",
    "- 'mo_sin_rcnt_rev_tl_op' - Количество месяцев с последнего открытого возобновляемого счета,\n",
    "- 'mo_sin_rcnt_tl' - Количество месяцев с последнего открытого счета,\n",
    "- 'mort_acc' - количество счетов с ипотекой,\n",
    "- 'mths_since_recent_bc' - количество месяцев с открытия последней банковской карты,\n",
    "- 'mths_since_recent_bc_dlq' - количество месяцев с последней просрочки по банковским картам,\n",
    "- 'mths_since_recent_inq' - количество месяцев с последнего запроса на кредит,\n",
    "- 'mths_since_recent_revol_delinq' - количество месяцев с последней просрочки по возобновляемым счетам,\n",
    "- 'num_accts_ever_120_pd' - количество счетов, просроченных на 120 и более дней,\n",
    "- 'num_actv_bc_tl' Количество активных в настоящее время счетов банковских карт\n",
    "- 'num_actv_rev_tl' - Количество активных в настоящее время оборотных сделок,\n",
    "- 'num_bc_sats' - Количество одобренных счетов по банковским картам,\n",
    "- 'num_bc_tl' - Количество счетов по банковским картам,\n",
    "- 'num_il_tl' - Количество счетов в рассрочку,\n",
    "- 'num_op_rev_tl' - Количество открытых оборотных счетов,\n",
    "- 'num_rev_accts' - Количество оборотных счетов,\n",
    "- 'num_rev_tl_bal_gt_0' - Количество оборотных сделок с балансом >0,\n",
    "- 'num_sats' - Количество одобренных счетов,\n",
    "- 'num_tl_120dpd_2m' - Количество счетов, просроченных в настоящее время на 120 дней (обновлено за последние 2 месяца),\n",
    "- 'num_tl_30dpd' - Количество счетов, просроченных в настоящее время на 30 дней (обновлено за последние 2 месяца),\n",
    "- 'num_tl_90g_dpd_24m' - Количество счетов, просроченных на 90 или более дней за последние 24 месяца,\n",
    "- 'num_tl_op_past_12m' - Количество счетов, открытых за последние 12 месяцев,\n",
    "- 'pct_tl_nvr_dlq' - Процент сделок, которые никогда не были просрочены,\n",
    "- 'percent_bc_gt_75' - Процент всех счетов по банковским картам > 75% от лимита.,\n",
    "- 'pub_rec_bankruptcies' - Количество зарегистрированных банкротсв,\n",
    "- 'tax_liens' - Количество налоговых залогов,\n",
    "- 'tot_hi_cred_lim' - Общий высокий кредитный лимит,\n",
    "- 'total_bal_ex_mort' - Общий кредитный баланс без ипотеки,\n",
    "- 'total_bc_limit' - Общий баланс по кредитным картам,\n",
    "- 'total_il_high_credit_limit' - Самый высокий взнос,\n",
    "- 'revol_bal_joint' - Сумма возобновляемого кредитного остатка созаемщиков, за вычетом дублирующих остатков,\n",
    "- 'sec_app_fico_range_low',\n",
    "- 'sec_app_fico_range_high' Диапазон FICO (низкий) для вторичного заявителя,\n",
    "- 'sec_app_earliest_cr_line' - Самая ранняя кредитная линия на момент подачи заявки для вторичного заявителя,\n",
    "- 'sec_app_inq_last_6mths' - Кредитные запросы за последние 6 месяцев на момент подачи заявления для второго заявителя,\n",
    "- 'sec_app_mort_acc' - Количество ипотечных счетов на момент подачи заявления для второго заявителя,\n",
    "- 'sec_app_open_acc' - Количество открытых сделок на момент подачи заявки для вторичного заявителя,\n",
    "- 'sec_app_revol_util' - Отношение общего текущего баланса к высокому кредиту/кредитному лимиту для всех возобновляемых счетов,\n",
    "- 'sec_app_open_act_il' - Количество активных в настоящее время сделок с рассрочкой платежа на момент подачи заявки для вторичного заявителя,\n",
    "- 'sec_app_num_rev_accts' - Количество оборотных счетов на момент подачи заявления для второго заявителя,\n",
    "- 'sec_app_chargeoff_within_12_mths' - Количество списаний в течение последних 12 месяцев на момент подачи заявления для второго заявителя,\n",
    "- 'sec_app_collections_12_mths_ex_med' - Количество сборов за последние 12 месяцев за исключением медицинских сборов на момент подачи заявления для вторичного заявителя,\n",
    "- 'sec_app_mths_since_last_major_derog' - Количество месяцев с момента последнего 90-дневного или худшего рейтинга на момент подачи заявления для вторичного заявителя,\n",
    "- 'hardship_flag' - Указывает, находится ли заемщик в программе помощи в трудных условиях или нет,\n",
    "- 'hardship_type' - Описывает план помощи в трудных условиях,\n",
    "- 'hardship_reason' - Описывает причину, по которой был предложен план помощи в трудных условиях,\n",
    "- 'hardship_status' - Описывает, является ли план поддержки активным, ожидающим, отмененным, завершенным или нарушенным,\n",
    "- 'deferral_term' - Процентная выплата, которую заемщик обязался производить каждый месяц, пока он находится на льготном плане,\n",
    "- 'hardship_amount' - Выплата процентов, которую заемщик обязался производить каждый месяц, пока он находится в трудном положении,\n",
    "- 'hardship_start_date' - Дата начала периода действия плана в трудных условиях,\n",
    "- 'hardship_end_date' - Дата окончания периода действия плана в трудных условиях,\n",
    "- 'payment_plan_start_date' - день, когда начал работать план,\n",
    "- 'hardship_length' - Просроченные дни по счету на дату начала действия плана в трудных условиях,\n",
    "- 'hardship_dpd' -  Просроченные дни по счету на дату начала действия плана в трудных условиях,\n",
    "- 'hardship_loan_status' - Статус кредита на дату начала действия плана помощи в трудных условиях,\n",
    "- 'orig_projected_additional_accrued_interest' - Первоначальная прогнозируемая дополнительная сумма процентов, которая будет начисляться по данному плану выплат в случае трудностей на дату начала трудностей.\n",
    "- 'hardship_payoff_balance_amount' - Сумма остатка выплаты на дату начала действия плана в трудных условиях,\n",
    "- 'hardship_last_payment_amount' - Последняя сумма платежа на дату начала действия плана в трудных условиях,\n",
    "- 'disbursement_method' - Метод, с помощью которого заемщик получает свой кредит,\n",
    "- 'debt_settlement_flag' - Указывает, работает ли заемщик, который списал средства, с компанией по урегулированию задолженности,\n",
    "- 'debt_settlement_flag_date' - ближайшая дата, когда был выставлен debt_settlement_flag,\n",
    "- 'settlement_status' - Статус плана урегулирования задолженности заемщика,\n",
    "- 'settlement_date' - Дата, когда заемщик соглашается с планом урегулирования,\n",
    "- 'settlement_amount' - Сумма кредита, которую заемщик согласился оплатить,\n",
    "- 'settlement_percentage' - Сумма расчета в процентах от суммы остатка платежа по кредиту,\n",
    "- 'settlement_term' - Количество месяцев, в течение которых заемщик будет находиться в плане урегулирования"
   ]
  },
  {
   "cell_type": "markdown",
   "metadata": {},
   "source": [
    "## EDA & Preprocessing\n",
    "\n",
    "Перед началом моделирования проведем первичный анализ данных. Также преобразуем категориальные переменные. Посмотрим на распределение целевой.\n",
    "\n",
    "Посмотрим на типы данных в нашем датасете."
   ]
  },
  {
   "cell_type": "code",
   "execution_count": 5,
   "metadata": {},
   "outputs": [
    {
     "name": "stdout",
     "output_type": "stream",
     "text": [
      "<class 'pandas.core.frame.DataFrame'>\n",
      "RangeIndex: 100799 entries, 0 to 100798\n",
      "Columns: 152 entries, Unnamed: 0 to settlement_term\n",
      "dtypes: float64(113), int64(2), object(37)\n",
      "memory usage: 116.9+ MB\n"
     ]
    }
   ],
   "source": [
    "data.info()"
   ]
  },
  {
   "cell_type": "markdown",
   "metadata": {},
   "source": [
    "В нашем датасете 152 столбца. Из них 115 числовые поля, 37 - строковые. Выведем тип данных по каждому столбцу."
   ]
  },
  {
   "cell_type": "code",
   "execution_count": 6,
   "metadata": {},
   "outputs": [
    {
     "name": "stdout",
     "output_type": "stream",
     "text": [
      "Unnamed: 0 - int64\n",
      "Unnamed: 0.1 - int64\n",
      "member_id - float64\n",
      "loan_amnt - float64\n",
      "funded_amnt - float64\n",
      "funded_amnt_inv - float64\n",
      "term - object\n",
      "int_rate - float64\n",
      "installment - float64\n",
      "grade - object\n",
      "sub_grade - object\n",
      "emp_title - object\n",
      "emp_length - object\n",
      "home_ownership - object\n",
      "annual_inc - float64\n",
      "verification_status - object\n",
      "issue_d - object\n",
      "loan_status - object\n",
      "pymnt_plan - object\n",
      "url - object\n",
      "desc - object\n",
      "purpose - object\n",
      "title - object\n",
      "zip_code - object\n",
      "addr_state - object\n",
      "dti - float64\n",
      "delinq_2yrs - float64\n",
      "earliest_cr_line - object\n",
      "fico_range_low - float64\n",
      "fico_range_high - float64\n",
      "inq_last_6mths - float64\n",
      "mths_since_last_delinq - float64\n",
      "mths_since_last_record - float64\n",
      "open_acc - float64\n",
      "pub_rec - float64\n",
      "revol_bal - float64\n",
      "revol_util - float64\n",
      "total_acc - float64\n",
      "initial_list_status - object\n",
      "out_prncp - float64\n",
      "out_prncp_inv - float64\n",
      "total_pymnt - float64\n",
      "total_pymnt_inv - float64\n",
      "total_rec_prncp - float64\n",
      "total_rec_int - float64\n",
      "total_rec_late_fee - float64\n",
      "recoveries - float64\n",
      "collection_recovery_fee - float64\n",
      "last_pymnt_d - object\n",
      "last_pymnt_amnt - float64\n",
      "next_pymnt_d - object\n",
      "last_credit_pull_d - object\n",
      "last_fico_range_high - float64\n",
      "last_fico_range_low - float64\n",
      "collections_12_mths_ex_med - float64\n",
      "mths_since_last_major_derog - float64\n",
      "policy_code - float64\n",
      "application_type - object\n",
      "annual_inc_joint - float64\n",
      "dti_joint - float64\n",
      "verification_status_joint - object\n",
      "acc_now_delinq - float64\n",
      "tot_coll_amt - float64\n",
      "tot_cur_bal - float64\n",
      "open_acc_6m - float64\n",
      "open_act_il - float64\n",
      "open_il_12m - float64\n",
      "open_il_24m - float64\n",
      "mths_since_rcnt_il - float64\n",
      "total_bal_il - float64\n",
      "il_util - float64\n",
      "open_rv_12m - float64\n",
      "open_rv_24m - float64\n",
      "max_bal_bc - float64\n",
      "all_util - float64\n",
      "total_rev_hi_lim - float64\n",
      "inq_fi - float64\n",
      "total_cu_tl - float64\n",
      "inq_last_12m - float64\n",
      "acc_open_past_24mths - float64\n",
      "avg_cur_bal - float64\n",
      "bc_open_to_buy - float64\n",
      "bc_util - float64\n",
      "chargeoff_within_12_mths - float64\n",
      "delinq_amnt - float64\n",
      "mo_sin_old_il_acct - float64\n",
      "mo_sin_old_rev_tl_op - float64\n",
      "mo_sin_rcnt_rev_tl_op - float64\n",
      "mo_sin_rcnt_tl - float64\n",
      "mort_acc - float64\n",
      "mths_since_recent_bc - float64\n",
      "mths_since_recent_bc_dlq - float64\n",
      "mths_since_recent_inq - float64\n",
      "mths_since_recent_revol_delinq - float64\n",
      "num_accts_ever_120_pd - float64\n",
      "num_actv_bc_tl - float64\n",
      "num_actv_rev_tl - float64\n",
      "num_bc_sats - float64\n",
      "num_bc_tl - float64\n",
      "num_il_tl - float64\n",
      "num_op_rev_tl - float64\n",
      "num_rev_accts - float64\n",
      "num_rev_tl_bal_gt_0 - float64\n",
      "num_sats - float64\n",
      "num_tl_120dpd_2m - float64\n",
      "num_tl_30dpd - float64\n",
      "num_tl_90g_dpd_24m - float64\n",
      "num_tl_op_past_12m - float64\n",
      "pct_tl_nvr_dlq - float64\n",
      "percent_bc_gt_75 - float64\n",
      "pub_rec_bankruptcies - float64\n",
      "tax_liens - float64\n",
      "tot_hi_cred_lim - float64\n",
      "total_bal_ex_mort - float64\n",
      "total_bc_limit - float64\n",
      "total_il_high_credit_limit - float64\n",
      "revol_bal_joint - float64\n",
      "sec_app_fico_range_low - float64\n",
      "sec_app_fico_range_high - float64\n",
      "sec_app_earliest_cr_line - object\n",
      "sec_app_inq_last_6mths - float64\n",
      "sec_app_mort_acc - float64\n",
      "sec_app_open_acc - float64\n",
      "sec_app_revol_util - float64\n",
      "sec_app_open_act_il - float64\n",
      "sec_app_num_rev_accts - float64\n",
      "sec_app_chargeoff_within_12_mths - float64\n",
      "sec_app_collections_12_mths_ex_med - float64\n",
      "sec_app_mths_since_last_major_derog - float64\n",
      "hardship_flag - object\n",
      "hardship_type - object\n",
      "hardship_reason - object\n",
      "hardship_status - object\n",
      "deferral_term - float64\n",
      "hardship_amount - float64\n",
      "hardship_start_date - object\n",
      "hardship_end_date - object\n",
      "payment_plan_start_date - object\n",
      "hardship_length - float64\n",
      "hardship_dpd - float64\n",
      "hardship_loan_status - object\n",
      "orig_projected_additional_accrued_interest - float64\n",
      "hardship_payoff_balance_amount - float64\n",
      "hardship_last_payment_amount - float64\n",
      "disbursement_method - object\n",
      "debt_settlement_flag - object\n",
      "debt_settlement_flag_date - object\n",
      "settlement_status - object\n",
      "settlement_date - object\n",
      "settlement_amount - float64\n",
      "settlement_percentage - float64\n",
      "settlement_term - float64\n"
     ]
    }
   ],
   "source": [
    "for col in data.columns:\n",
    "    print(str(col) + ' - ' + str(data[col].dtypes))"
   ]
  },
  {
   "cell_type": "markdown",
   "metadata": {},
   "source": [
    "Проверим есть ли полностью дублирующие строки в данных. Если да, то удалим их."
   ]
  },
  {
   "cell_type": "code",
   "execution_count": 7,
   "metadata": {},
   "outputs": [
    {
     "data": {
      "text/plain": [
       "100799"
      ]
     },
     "execution_count": 7,
     "metadata": {},
     "output_type": "execute_result"
    }
   ],
   "source": [
    "data = data.drop_duplicates()\n",
    "len(data)"
   ]
  },
  {
   "cell_type": "markdown",
   "metadata": {},
   "source": [
    "Видим, что в данных не были найдены полностью дублирующие строки. Теперь проверим пропуски в данных."
   ]
  },
  {
   "cell_type": "code",
   "execution_count": 8,
   "metadata": {},
   "outputs": [
    {
     "name": "stdout",
     "output_type": "stream",
     "text": [
      "Unnamed: 0 - 0.0\n",
      "Unnamed: 0.1 - 0.0\n",
      "member_id - 100.0\n",
      "loan_amnt - 0.0\n",
      "funded_amnt - 0.0\n",
      "funded_amnt_inv - 0.0\n",
      "term - 0.0\n",
      "int_rate - 0.0\n",
      "installment - 0.0\n",
      "grade - 0.0\n",
      "sub_grade - 0.0\n",
      "emp_title - 6.7\n",
      "emp_length - 5.96\n",
      "home_ownership - 0.0\n",
      "annual_inc - 0.01\n",
      "verification_status - 0.0\n",
      "issue_d - 0.0\n",
      "loan_status - 0.0\n",
      "pymnt_plan - 0.0\n",
      "url - 0.0\n",
      "desc - 87.35\n",
      "purpose - 0.0\n",
      "title - 1.62\n",
      "zip_code - 0.0\n",
      "addr_state - 0.0\n",
      "dti - 0.04\n",
      "delinq_2yrs - 0.01\n",
      "earliest_cr_line - 0.01\n",
      "fico_range_low - 0.0\n",
      "fico_range_high - 0.0\n",
      "inq_last_6mths - 0.01\n",
      "mths_since_last_delinq - 50.92\n",
      "mths_since_last_record - 83.14\n",
      "open_acc - 0.01\n",
      "pub_rec - 0.01\n",
      "revol_bal - 0.0\n",
      "revol_util - 0.08\n",
      "total_acc - 0.01\n",
      "initial_list_status - 0.0\n",
      "out_prncp - 0.0\n",
      "out_prncp_inv - 0.0\n",
      "total_pymnt - 0.0\n",
      "total_pymnt_inv - 0.0\n",
      "total_rec_prncp - 0.0\n",
      "total_rec_int - 0.0\n",
      "total_rec_late_fee - 0.0\n",
      "recoveries - 0.0\n",
      "collection_recovery_fee - 0.0\n",
      "last_pymnt_d - 0.24\n",
      "last_pymnt_amnt - 0.0\n",
      "next_pymnt_d - 96.36\n",
      "last_credit_pull_d - 0.01\n",
      "last_fico_range_high - 0.0\n",
      "last_fico_range_low - 0.0\n",
      "collections_12_mths_ex_med - 0.02\n",
      "mths_since_last_major_derog - 74.5\n",
      "policy_code - 0.0\n",
      "application_type - 0.0\n",
      "annual_inc_joint - 97.61\n",
      "dti_joint - 97.61\n",
      "verification_status_joint - 97.63\n",
      "acc_now_delinq - 0.01\n",
      "tot_coll_amt - 6.97\n",
      "tot_cur_bal - 6.97\n",
      "open_acc_6m - 52.42\n",
      "open_act_il - 52.42\n",
      "open_il_12m - 52.42\n",
      "open_il_24m - 52.42\n",
      "mths_since_rcnt_il - 53.74\n",
      "total_bal_il - 52.42\n",
      "il_util - 58.78\n",
      "open_rv_12m - 52.42\n",
      "open_rv_24m - 52.42\n",
      "max_bal_bc - 52.42\n",
      "all_util - 52.43\n",
      "total_rev_hi_lim - 6.97\n",
      "inq_fi - 52.42\n",
      "total_cu_tl - 52.42\n",
      "inq_last_12m - 52.42\n",
      "acc_open_past_24mths - 5.0\n",
      "avg_cur_bal - 6.97\n",
      "bc_open_to_buy - 6.0\n",
      "bc_util - 6.06\n",
      "chargeoff_within_12_mths - 0.02\n",
      "delinq_amnt - 0.01\n",
      "mo_sin_old_il_acct - 9.84\n",
      "mo_sin_old_rev_tl_op - 6.97\n",
      "mo_sin_rcnt_rev_tl_op - 6.97\n",
      "mo_sin_rcnt_tl - 6.97\n",
      "mort_acc - 5.0\n",
      "mths_since_recent_bc - 5.92\n",
      "mths_since_recent_bc_dlq - 76.94\n",
      "mths_since_recent_inq - 13.8\n",
      "mths_since_recent_revol_delinq - 67.3\n",
      "num_accts_ever_120_pd - 6.97\n",
      "num_actv_bc_tl - 6.97\n",
      "num_actv_rev_tl - 6.97\n",
      "num_bc_sats - 5.83\n",
      "num_bc_tl - 6.97\n",
      "num_il_tl - 6.97\n",
      "num_op_rev_tl - 6.97\n",
      "num_rev_accts - 6.97\n",
      "num_rev_tl_bal_gt_0 - 6.97\n",
      "num_sats - 5.83\n",
      "num_tl_120dpd_2m - 10.56\n",
      "num_tl_30dpd - 6.97\n",
      "num_tl_90g_dpd_24m - 6.97\n",
      "num_tl_op_past_12m - 6.97\n",
      "pct_tl_nvr_dlq - 6.99\n",
      "percent_bc_gt_75 - 6.02\n",
      "pub_rec_bankruptcies - 0.14\n",
      "tax_liens - 0.02\n",
      "tot_hi_cred_lim - 6.97\n",
      "total_bal_ex_mort - 5.0\n",
      "total_bc_limit - 5.0\n",
      "total_il_high_credit_limit - 6.97\n",
      "revol_bal_joint - 98.31\n",
      "sec_app_fico_range_low - 98.31\n",
      "sec_app_fico_range_high - 98.31\n",
      "sec_app_earliest_cr_line - 98.31\n",
      "sec_app_inq_last_6mths - 98.31\n",
      "sec_app_mort_acc - 98.31\n",
      "sec_app_open_acc - 98.31\n",
      "sec_app_revol_util - 98.35\n",
      "sec_app_open_act_il - 98.31\n",
      "sec_app_num_rev_accts - 98.31\n",
      "sec_app_chargeoff_within_12_mths - 98.31\n",
      "sec_app_collections_12_mths_ex_med - 98.31\n",
      "sec_app_mths_since_last_major_derog - 99.37\n",
      "hardship_flag - 0.0\n",
      "hardship_type - 99.28\n",
      "hardship_reason - 99.28\n",
      "hardship_status - 99.28\n",
      "deferral_term - 99.28\n",
      "hardship_amount - 99.28\n",
      "hardship_start_date - 99.28\n",
      "hardship_end_date - 99.28\n",
      "payment_plan_start_date - 99.28\n",
      "hardship_length - 99.28\n",
      "hardship_dpd - 99.28\n",
      "hardship_loan_status - 99.28\n",
      "orig_projected_additional_accrued_interest - 99.49\n",
      "hardship_payoff_balance_amount - 99.28\n",
      "hardship_last_payment_amount - 99.28\n",
      "disbursement_method - 0.0\n",
      "debt_settlement_flag - 0.0\n",
      "debt_settlement_flag_date - 96.56\n",
      "settlement_status - 96.56\n",
      "settlement_date - 96.56\n",
      "settlement_amount - 96.56\n",
      "settlement_percentage - 96.56\n",
      "settlement_term - 96.56\n"
     ]
    }
   ],
   "source": [
    "for col in data.columns:\n",
    "    print(str(col) + ' - ' + str(round(data[col].isnull().sum() / len(data) * 100, 2)))"
   ]
  },
  {
   "cell_type": "markdown",
   "metadata": {},
   "source": [
    "Как мы видим, в данных присутствует столбцы, по которым много пустых значений. Так как эти данные не имеют смысловой нагрузки для анализа, удалим из датасета данные, в которых более 90% пустые."
   ]
  },
  {
   "cell_type": "code",
   "execution_count": 9,
   "metadata": {},
   "outputs": [],
   "source": [
    "for col in data.columns:\n",
    "    null_flag = data[col].isnull().sum() / len(data)\n",
    "    if null_flag > 0.9:\n",
    "        data = data.drop(col, axis=1)"
   ]
  },
  {
   "cell_type": "markdown",
   "metadata": {},
   "source": [
    "Также удалим столбцы Unnamed. Так как в них хранится информация по id клиента. "
   ]
  },
  {
   "cell_type": "code",
   "execution_count": 10,
   "metadata": {},
   "outputs": [],
   "source": [
    "data = data.drop(['Unnamed: 0', 'Unnamed: 0.1'], axis=1)"
   ]
  },
  {
   "cell_type": "markdown",
   "metadata": {},
   "source": [
    "Из данных также удалим данные по клиентам, связанные с адресом, индексом. Так как эти данные не представляют интереса для анализа."
   ]
  },
  {
   "cell_type": "code",
   "execution_count": 11,
   "metadata": {},
   "outputs": [],
   "source": [
    "data = data.drop(['url', 'desc', 'zip_code', 'addr_state'], axis=1)"
   ]
  },
  {
   "cell_type": "markdown",
   "metadata": {},
   "source": [
    "Теперь посмотрим сколько в нашем датасете осталось столбцов."
   ]
  },
  {
   "cell_type": "code",
   "execution_count": 12,
   "metadata": {},
   "outputs": [
    {
     "name": "stdout",
     "output_type": "stream",
     "text": [
      "В датасете осталось 108 столбцов\n"
     ]
    }
   ],
   "source": [
    "print('В датасете осталось ' + str(len(data.columns)) + ' столбцов')"
   ]
  },
  {
   "cell_type": "markdown",
   "metadata": {},
   "source": [
    "Удалим из датасета строки, где отсутствует все данные."
   ]
  },
  {
   "cell_type": "code",
   "execution_count": 13,
   "metadata": {},
   "outputs": [],
   "source": [
    "data = data.dropna(how='all')\n",
    "data = data.reset_index(drop=True)"
   ]
  },
  {
   "cell_type": "markdown",
   "metadata": {},
   "source": [
    "Посмотрим на типы данных столбцов, в которых остались пустые значения"
   ]
  },
  {
   "cell_type": "code",
   "execution_count": 14,
   "metadata": {},
   "outputs": [
    {
     "name": "stdout",
     "output_type": "stream",
     "text": [
      "emp_title - object. Доля пустых значений: 6.7\n",
      "emp_length - object. Доля пустых значений: 5.96\n",
      "annual_inc - float64. Доля пустых значений: 0.0\n",
      "title - object. Доля пустых значений: 1.62\n",
      "dti - float64. Доля пустых значений: 0.03\n",
      "delinq_2yrs - float64. Доля пустых значений: 0.0\n",
      "earliest_cr_line - object. Доля пустых значений: 0.0\n",
      "inq_last_6mths - float64. Доля пустых значений: 0.0\n",
      "mths_since_last_delinq - float64. Доля пустых значений: 50.92\n",
      "mths_since_last_record - float64. Доля пустых значений: 83.14\n",
      "open_acc - float64. Доля пустых значений: 0.0\n",
      "pub_rec - float64. Доля пустых значений: 0.0\n",
      "revol_util - float64. Доля пустых значений: 0.07\n",
      "total_acc - float64. Доля пустых значений: 0.0\n",
      "last_pymnt_d - object. Доля пустых значений: 0.24\n",
      "last_credit_pull_d - object. Доля пустых значений: 0.0\n",
      "collections_12_mths_ex_med - float64. Доля пустых значений: 0.02\n",
      "mths_since_last_major_derog - float64. Доля пустых значений: 74.49\n",
      "acc_now_delinq - float64. Доля пустых значений: 0.0\n",
      "tot_coll_amt - float64. Доля пустых значений: 6.97\n",
      "tot_cur_bal - float64. Доля пустых значений: 6.97\n",
      "open_acc_6m - float64. Доля пустых значений: 52.42\n",
      "open_act_il - float64. Доля пустых значений: 52.42\n",
      "open_il_12m - float64. Доля пустых значений: 52.42\n",
      "open_il_24m - float64. Доля пустых значений: 52.42\n",
      "mths_since_rcnt_il - float64. Доля пустых значений: 53.74\n",
      "total_bal_il - float64. Доля пустых значений: 52.42\n",
      "il_util - float64. Доля пустых значений: 58.78\n",
      "open_rv_12m - float64. Доля пустых значений: 52.42\n",
      "open_rv_24m - float64. Доля пустых значений: 52.42\n",
      "max_bal_bc - float64. Доля пустых значений: 52.42\n",
      "all_util - float64. Доля пустых значений: 52.42\n",
      "total_rev_hi_lim - float64. Доля пустых значений: 6.97\n",
      "inq_fi - float64. Доля пустых значений: 52.42\n",
      "total_cu_tl - float64. Доля пустых значений: 52.42\n",
      "inq_last_12m - float64. Доля пустых значений: 52.42\n",
      "acc_open_past_24mths - float64. Доля пустых значений: 5.0\n",
      "avg_cur_bal - float64. Доля пустых значений: 6.97\n",
      "bc_open_to_buy - float64. Доля пустых значений: 5.99\n",
      "bc_util - float64. Доля пустых значений: 6.06\n",
      "chargeoff_within_12_mths - float64. Доля пустых значений: 0.02\n",
      "delinq_amnt - float64. Доля пустых значений: 0.0\n",
      "mo_sin_old_il_acct - float64. Доля пустых значений: 9.84\n",
      "mo_sin_old_rev_tl_op - float64. Доля пустых значений: 6.97\n",
      "mo_sin_rcnt_rev_tl_op - float64. Доля пустых значений: 6.97\n",
      "mo_sin_rcnt_tl - float64. Доля пустых значений: 6.97\n",
      "mort_acc - float64. Доля пустых значений: 5.0\n",
      "mths_since_recent_bc - float64. Доля пустых значений: 5.91\n",
      "mths_since_recent_bc_dlq - float64. Доля пустых значений: 76.94\n",
      "mths_since_recent_inq - float64. Доля пустых значений: 13.8\n",
      "mths_since_recent_revol_delinq - float64. Доля пустых значений: 67.3\n",
      "num_accts_ever_120_pd - float64. Доля пустых значений: 6.97\n",
      "num_actv_bc_tl - float64. Доля пустых значений: 6.97\n",
      "num_actv_rev_tl - float64. Доля пустых значений: 6.97\n",
      "num_bc_sats - float64. Доля пустых значений: 5.83\n",
      "num_bc_tl - float64. Доля пустых значений: 6.97\n",
      "num_il_tl - float64. Доля пустых значений: 6.97\n",
      "num_op_rev_tl - float64. Доля пустых значений: 6.97\n",
      "num_rev_accts - float64. Доля пустых значений: 6.97\n",
      "num_rev_tl_bal_gt_0 - float64. Доля пустых значений: 6.97\n",
      "num_sats - float64. Доля пустых значений: 5.83\n",
      "num_tl_120dpd_2m - float64. Доля пустых значений: 10.55\n",
      "num_tl_30dpd - float64. Доля пустых значений: 6.97\n",
      "num_tl_90g_dpd_24m - float64. Доля пустых значений: 6.97\n",
      "num_tl_op_past_12m - float64. Доля пустых значений: 6.97\n",
      "pct_tl_nvr_dlq - float64. Доля пустых значений: 6.98\n",
      "percent_bc_gt_75 - float64. Доля пустых значений: 6.02\n",
      "pub_rec_bankruptcies - float64. Доля пустых значений: 0.14\n",
      "tax_liens - float64. Доля пустых значений: 0.02\n",
      "tot_hi_cred_lim - float64. Доля пустых значений: 6.97\n",
      "total_bal_ex_mort - float64. Доля пустых значений: 5.0\n",
      "total_bc_limit - float64. Доля пустых значений: 5.0\n",
      "total_il_high_credit_limit - float64. Доля пустых значений: 6.97\n"
     ]
    }
   ],
   "source": [
    "for col in data.columns:\n",
    "    null_flag = data[col].isnull().sum()\n",
    "    if null_flag > 0:\n",
    "        print(str(col) + ' - ' + str(data[col].dtypes) + '. Доля пустых значений: ' + str(round(null_flag / len(data) * 100, 2)))"
   ]
  },
  {
   "cell_type": "markdown",
   "metadata": {},
   "source": [
    "Практически все столбцы с пустыми значениями имеют числовой формат. Пустые значения в них можно заменить на 0, так как смысловая нагрузка этих полей - сумма счета, количество счетом, количество месяцев.\n",
    "Выведем названия пустых строковых столбцов и количество уникальных значений в них."
   ]
  },
  {
   "cell_type": "code",
   "execution_count": 15,
   "metadata": {},
   "outputs": [
    {
     "name": "stdout",
     "output_type": "stream",
     "text": [
      "emp_title. Количество уникальных значений: 46803\n",
      "emp_length. Количество уникальных значений: 12\n",
      "title. Количество уникальных значений: 8685\n",
      "earliest_cr_line. Количество уникальных значений: 655\n",
      "last_pymnt_d. Количество уникальных значений: 136\n",
      "last_credit_pull_d. Количество уникальных значений: 127\n"
     ]
    }
   ],
   "source": [
    "for col in data.columns:\n",
    "    null_flag = data[col].isnull().sum()\n",
    "    if null_flag > 0 and data[col].dtype == 'object':\n",
    "        print(col + '. Количество уникальных значений: ' + str(len(data[col].unique())))"
   ]
  },
  {
   "cell_type": "markdown",
   "metadata": {},
   "source": [
    "Столбец emp_title описывает профессию клиента. Для дальнейшего анализа данный столбец не понадобиться, так как в нем очень много уникальных значений.\n",
    "Столбец title является дублирующим для столбца purpose (цель кредита), так как в нем отображается более полная информация о кредите. Для дальнейшего анализа данный столбец нам не понадобится.\n",
    "\n",
    "Посмотрим какие значения принимает столбец emp_length (срок работы)."
   ]
  },
  {
   "cell_type": "code",
   "execution_count": 16,
   "metadata": {},
   "outputs": [
    {
     "data": {
      "text/plain": [
       "10+ years    32828\n",
       "2 years       9023\n",
       "< 1 year      8127\n",
       "3 years       8088\n",
       "1 year        6722\n",
       "5 years       6305\n",
       "4 years       6051\n",
       "NaN           6006\n",
       "6 years       5039\n",
       "7 years       4476\n",
       "8 years       4399\n",
       "9 years       3730\n",
       "Name: emp_length, dtype: int64"
      ]
     },
     "execution_count": 16,
     "metadata": {},
     "output_type": "execute_result"
    }
   ],
   "source": [
    "data['emp_length'].value_counts(dropna=False)"
   ]
  },
  {
   "cell_type": "markdown",
   "metadata": {},
   "source": [
    "Заменим пустоты на \"Нет данных\", так как мы не знаем сколько работали указанные клиенты на момент оформления кредита."
   ]
  },
  {
   "cell_type": "code",
   "execution_count": 17,
   "metadata": {},
   "outputs": [],
   "source": [
    "data['emp_length'] = data['emp_length'].fillna('No data')"
   ]
  },
  {
   "cell_type": "markdown",
   "metadata": {},
   "source": [
    "Заменим значения на 0 в числовых данных"
   ]
  },
  {
   "cell_type": "code",
   "execution_count": 18,
   "metadata": {},
   "outputs": [],
   "source": [
    "for col in data.columns:\n",
    "    null_flag = data[col].isnull().sum()\n",
    "    if null_flag > 0 and data[col].dtype == 'float64':\n",
    "        data[col] = data[col].fillna(0)"
   ]
  },
  {
   "cell_type": "markdown",
   "metadata": {},
   "source": [
    "Построим матрицу корреляций."
   ]
  },
  {
   "cell_type": "code",
   "execution_count": 19,
   "metadata": {},
   "outputs": [
    {
     "data": {
      "text/html": [
       "<div>\n",
       "<style scoped>\n",
       "    .dataframe tbody tr th:only-of-type {\n",
       "        vertical-align: middle;\n",
       "    }\n",
       "\n",
       "    .dataframe tbody tr th {\n",
       "        vertical-align: top;\n",
       "    }\n",
       "\n",
       "    .dataframe thead th {\n",
       "        text-align: right;\n",
       "    }\n",
       "</style>\n",
       "<table border=\"1\" class=\"dataframe\">\n",
       "  <thead>\n",
       "    <tr style=\"text-align: right;\">\n",
       "      <th></th>\n",
       "      <th>loan_amnt</th>\n",
       "      <th>funded_amnt</th>\n",
       "      <th>funded_amnt_inv</th>\n",
       "      <th>int_rate</th>\n",
       "      <th>installment</th>\n",
       "      <th>annual_inc</th>\n",
       "      <th>dti</th>\n",
       "      <th>delinq_2yrs</th>\n",
       "      <th>fico_range_low</th>\n",
       "      <th>fico_range_high</th>\n",
       "      <th>...</th>\n",
       "      <th>num_tl_90g_dpd_24m</th>\n",
       "      <th>num_tl_op_past_12m</th>\n",
       "      <th>pct_tl_nvr_dlq</th>\n",
       "      <th>percent_bc_gt_75</th>\n",
       "      <th>pub_rec_bankruptcies</th>\n",
       "      <th>tax_liens</th>\n",
       "      <th>tot_hi_cred_lim</th>\n",
       "      <th>total_bal_ex_mort</th>\n",
       "      <th>total_bc_limit</th>\n",
       "      <th>total_il_high_credit_limit</th>\n",
       "    </tr>\n",
       "  </thead>\n",
       "  <tbody>\n",
       "    <tr>\n",
       "      <th>loan_amnt</th>\n",
       "      <td>1.000000</td>\n",
       "      <td>0.999293</td>\n",
       "      <td>0.997456</td>\n",
       "      <td>0.162647</td>\n",
       "      <td>0.951264</td>\n",
       "      <td>0.335308</td>\n",
       "      <td>0.033568</td>\n",
       "      <td>0.002950</td>\n",
       "      <td>0.090333</td>\n",
       "      <td>0.090333</td>\n",
       "      <td>...</td>\n",
       "      <td>-0.016979</td>\n",
       "      <td>0.009229</td>\n",
       "      <td>0.101445</td>\n",
       "      <td>0.051823</td>\n",
       "      <td>-0.089132</td>\n",
       "      <td>0.009416</td>\n",
       "      <td>0.330917</td>\n",
       "      <td>0.284408</td>\n",
       "      <td>0.358080</td>\n",
       "      <td>0.215204</td>\n",
       "    </tr>\n",
       "    <tr>\n",
       "      <th>funded_amnt</th>\n",
       "      <td>0.999293</td>\n",
       "      <td>1.000000</td>\n",
       "      <td>0.998286</td>\n",
       "      <td>0.162832</td>\n",
       "      <td>0.952346</td>\n",
       "      <td>0.335264</td>\n",
       "      <td>0.034146</td>\n",
       "      <td>0.003230</td>\n",
       "      <td>0.089082</td>\n",
       "      <td>0.089081</td>\n",
       "      <td>...</td>\n",
       "      <td>-0.016750</td>\n",
       "      <td>0.010895</td>\n",
       "      <td>0.106846</td>\n",
       "      <td>0.053631</td>\n",
       "      <td>-0.088734</td>\n",
       "      <td>0.009619</td>\n",
       "      <td>0.332577</td>\n",
       "      <td>0.286121</td>\n",
       "      <td>0.359790</td>\n",
       "      <td>0.216760</td>\n",
       "    </tr>\n",
       "    <tr>\n",
       "      <th>funded_amnt_inv</th>\n",
       "      <td>0.997456</td>\n",
       "      <td>0.998286</td>\n",
       "      <td>1.000000</td>\n",
       "      <td>0.163314</td>\n",
       "      <td>0.950470</td>\n",
       "      <td>0.334471</td>\n",
       "      <td>0.035403</td>\n",
       "      <td>0.003584</td>\n",
       "      <td>0.088069</td>\n",
       "      <td>0.088068</td>\n",
       "      <td>...</td>\n",
       "      <td>-0.016171</td>\n",
       "      <td>0.014590</td>\n",
       "      <td>0.118349</td>\n",
       "      <td>0.057446</td>\n",
       "      <td>-0.087785</td>\n",
       "      <td>0.010013</td>\n",
       "      <td>0.335215</td>\n",
       "      <td>0.289026</td>\n",
       "      <td>0.362498</td>\n",
       "      <td>0.219527</td>\n",
       "    </tr>\n",
       "    <tr>\n",
       "      <th>int_rate</th>\n",
       "      <td>0.162647</td>\n",
       "      <td>0.162832</td>\n",
       "      <td>0.163314</td>\n",
       "      <td>1.000000</td>\n",
       "      <td>0.176513</td>\n",
       "      <td>-0.064898</td>\n",
       "      <td>0.141101</td>\n",
       "      <td>0.047618</td>\n",
       "      <td>-0.413759</td>\n",
       "      <td>-0.413757</td>\n",
       "      <td>...</td>\n",
       "      <td>0.025531</td>\n",
       "      <td>0.205060</td>\n",
       "      <td>0.044970</td>\n",
       "      <td>0.254492</td>\n",
       "      <td>0.051395</td>\n",
       "      <td>0.015861</td>\n",
       "      <td>-0.092079</td>\n",
       "      <td>0.029874</td>\n",
       "      <td>-0.194504</td>\n",
       "      <td>0.019425</td>\n",
       "    </tr>\n",
       "    <tr>\n",
       "      <th>installment</th>\n",
       "      <td>0.951264</td>\n",
       "      <td>0.952346</td>\n",
       "      <td>0.950470</td>\n",
       "      <td>0.176513</td>\n",
       "      <td>1.000000</td>\n",
       "      <td>0.323984</td>\n",
       "      <td>0.037994</td>\n",
       "      <td>0.013215</td>\n",
       "      <td>0.037416</td>\n",
       "      <td>0.037415</td>\n",
       "      <td>...</td>\n",
       "      <td>-0.010912</td>\n",
       "      <td>0.030065</td>\n",
       "      <td>0.101435</td>\n",
       "      <td>0.072619</td>\n",
       "      <td>-0.080005</td>\n",
       "      <td>0.016650</td>\n",
       "      <td>0.300801</td>\n",
       "      <td>0.272746</td>\n",
       "      <td>0.329796</td>\n",
       "      <td>0.203454</td>\n",
       "    </tr>\n",
       "  </tbody>\n",
       "</table>\n",
       "<p>5 rows × 88 columns</p>\n",
       "</div>"
      ],
      "text/plain": [
       "                 loan_amnt  funded_amnt  funded_amnt_inv  int_rate  \\\n",
       "loan_amnt         1.000000     0.999293         0.997456  0.162647   \n",
       "funded_amnt       0.999293     1.000000         0.998286  0.162832   \n",
       "funded_amnt_inv   0.997456     0.998286         1.000000  0.163314   \n",
       "int_rate          0.162647     0.162832         0.163314  1.000000   \n",
       "installment       0.951264     0.952346         0.950470  0.176513   \n",
       "\n",
       "                 installment  annual_inc       dti  delinq_2yrs  \\\n",
       "loan_amnt           0.951264    0.335308  0.033568     0.002950   \n",
       "funded_amnt         0.952346    0.335264  0.034146     0.003230   \n",
       "funded_amnt_inv     0.950470    0.334471  0.035403     0.003584   \n",
       "int_rate            0.176513   -0.064898  0.141101     0.047618   \n",
       "installment         1.000000    0.323984  0.037994     0.013215   \n",
       "\n",
       "                 fico_range_low  fico_range_high  ...  num_tl_90g_dpd_24m  \\\n",
       "loan_amnt              0.090333         0.090333  ...           -0.016979   \n",
       "funded_amnt            0.089082         0.089081  ...           -0.016750   \n",
       "funded_amnt_inv        0.088069         0.088068  ...           -0.016171   \n",
       "int_rate              -0.413759        -0.413757  ...            0.025531   \n",
       "installment            0.037416         0.037415  ...           -0.010912   \n",
       "\n",
       "                 num_tl_op_past_12m  pct_tl_nvr_dlq  percent_bc_gt_75  \\\n",
       "loan_amnt                  0.009229        0.101445          0.051823   \n",
       "funded_amnt                0.010895        0.106846          0.053631   \n",
       "funded_amnt_inv            0.014590        0.118349          0.057446   \n",
       "int_rate                   0.205060        0.044970          0.254492   \n",
       "installment                0.030065        0.101435          0.072619   \n",
       "\n",
       "                 pub_rec_bankruptcies  tax_liens  tot_hi_cred_lim  \\\n",
       "loan_amnt                   -0.089132   0.009416         0.330917   \n",
       "funded_amnt                 -0.088734   0.009619         0.332577   \n",
       "funded_amnt_inv             -0.087785   0.010013         0.335215   \n",
       "int_rate                     0.051395   0.015861        -0.092079   \n",
       "installment                 -0.080005   0.016650         0.300801   \n",
       "\n",
       "                 total_bal_ex_mort  total_bc_limit  total_il_high_credit_limit  \n",
       "loan_amnt                 0.284408        0.358080                    0.215204  \n",
       "funded_amnt               0.286121        0.359790                    0.216760  \n",
       "funded_amnt_inv           0.289026        0.362498                    0.219527  \n",
       "int_rate                  0.029874       -0.194504                    0.019425  \n",
       "installment               0.272746        0.329796                    0.203454  \n",
       "\n",
       "[5 rows x 88 columns]"
      ]
     },
     "execution_count": 19,
     "metadata": {},
     "output_type": "execute_result"
    }
   ],
   "source": [
    "df_corr = data.corr()\n",
    "df_corr.head()"
   ]
  },
  {
   "cell_type": "markdown",
   "metadata": {},
   "source": [
    "Так как в данных много столбцов. Посмотрим какие поля коррелируют сильнее между собой. Создадим словарь"
   ]
  },
  {
   "cell_type": "code",
   "execution_count": 20,
   "metadata": {},
   "outputs": [],
   "source": [
    "multicorr_dict = {}\n",
    "for col in df_corr.columns:\n",
    "    df_check = df_corr[(abs(df_corr[col]) >= 0.8) & (df_corr[col] != 1)]\n",
    "    multicorrs = df_check.index.values.tolist()\n",
    "    \n",
    "    if len(multicorrs) != 0:\n",
    "        multicorr_dict[col] = multicorrs"
   ]
  },
  {
   "cell_type": "code",
   "execution_count": 21,
   "metadata": {},
   "outputs": [
    {
     "data": {
      "text/plain": [
       "{'loan_amnt': ['funded_amnt', 'funded_amnt_inv', 'installment'],\n",
       " 'funded_amnt': ['loan_amnt', 'funded_amnt_inv', 'installment'],\n",
       " 'funded_amnt_inv': ['loan_amnt', 'funded_amnt', 'installment'],\n",
       " 'installment': ['loan_amnt', 'funded_amnt', 'funded_amnt_inv'],\n",
       " 'fico_range_low': ['fico_range_high'],\n",
       " 'fico_range_high': ['fico_range_low'],\n",
       " 'open_acc': ['num_sats'],\n",
       " 'out_prncp': ['out_prncp_inv'],\n",
       " 'out_prncp_inv': ['out_prncp'],\n",
       " 'total_pymnt': ['total_pymnt_inv', 'total_rec_prncp'],\n",
       " 'total_pymnt_inv': ['total_pymnt', 'total_rec_prncp'],\n",
       " 'total_rec_prncp': ['total_pymnt', 'total_pymnt_inv'],\n",
       " 'recoveries': ['collection_recovery_fee'],\n",
       " 'collection_recovery_fee': ['recoveries'],\n",
       " 'last_fico_range_high': ['last_fico_range_low'],\n",
       " 'last_fico_range_low': ['last_fico_range_high'],\n",
       " 'tot_cur_bal': ['avg_cur_bal', 'tot_hi_cred_lim'],\n",
       " 'open_il_12m': ['open_il_24m'],\n",
       " 'open_il_24m': ['open_il_12m'],\n",
       " 'il_util': ['all_util'],\n",
       " 'open_rv_12m': ['open_rv_24m'],\n",
       " 'open_rv_24m': ['open_rv_12m'],\n",
       " 'all_util': ['il_util'],\n",
       " 'avg_cur_bal': ['tot_cur_bal', 'tot_hi_cred_lim'],\n",
       " 'bc_open_to_buy': ['total_bc_limit'],\n",
       " 'bc_util': ['percent_bc_gt_75'],\n",
       " 'num_actv_bc_tl': ['num_actv_rev_tl', 'num_bc_sats', 'num_rev_tl_bal_gt_0'],\n",
       " 'num_actv_rev_tl': ['num_actv_bc_tl', 'num_op_rev_tl', 'num_rev_tl_bal_gt_0'],\n",
       " 'num_bc_sats': ['num_actv_bc_tl'],\n",
       " 'num_bc_tl': ['num_rev_accts'],\n",
       " 'num_op_rev_tl': ['num_actv_rev_tl',\n",
       "  'num_rev_accts',\n",
       "  'num_rev_tl_bal_gt_0',\n",
       "  'num_sats'],\n",
       " 'num_rev_accts': ['num_bc_tl', 'num_op_rev_tl'],\n",
       " 'num_rev_tl_bal_gt_0': ['num_actv_bc_tl', 'num_actv_rev_tl', 'num_op_rev_tl'],\n",
       " 'num_sats': ['open_acc', 'num_op_rev_tl'],\n",
       " 'percent_bc_gt_75': ['bc_util'],\n",
       " 'tot_hi_cred_lim': ['tot_cur_bal', 'avg_cur_bal'],\n",
       " 'total_bal_ex_mort': ['total_il_high_credit_limit'],\n",
       " 'total_bc_limit': ['bc_open_to_buy'],\n",
       " 'total_il_high_credit_limit': ['total_bal_ex_mort']}"
      ]
     },
     "execution_count": 21,
     "metadata": {},
     "output_type": "execute_result"
    }
   ],
   "source": [
    "multicorr_dict"
   ]
  },
  {
   "cell_type": "markdown",
   "metadata": {},
   "source": [
    "Можно сделать следующие выводы:\n",
    "- Видно, что часто коррелируемые поля - это поля, характеризующие возобновляемые кредиты (поля с \"rev\") и кредитные карты (поля с \"bc\"). Это связано с тем, что кредитные карты по сути являются возобновляемыми. Так как возобновляемые кредиты более широкое понятие, будем использовать их для дальнейшего анализа. Это поля: revol_util, num_actv_rev_tl, num_rev_accts, revol_bal. Коррелируемые с ними поля удаляем.\n",
    "- loan_amnt, funded_amnt, installment практически об одном и том же, поэтому для дальнейшего анализа можно оставить только одно. Оставим loan_amnt.\n",
    "- fico_range определяют скоринговый балл клиента. Для дальнейшего анализа будем использовать наихудший скоринг по верхней границе.\n",
    "- mths_since_last_delinq оставляем для дальнейшего анализа как более полное с точки зрения смысла. Схожие поля mths_since_recent_revol_delinq и mths_since_recent_bc_dlq удаляем.\n",
    "- open_acc (количество активных счетов) коррелирует с двумя похожими полями, которую несут такую же смысловую нагрузку. Эти поля убираем.\n",
    "- out_prncp оставляем, схожее удаляем. \n",
    "- total_pmnt оставляем, схожее удаляем.\n",
    "- recoveries оставляем, схожее удаляем.\n",
    "- total_bal_il оставляем, схожее удаляем.\n",
    "- avg_cur_bal - оценка среднего баланса более интересна с точки зрения анализа.\n",
    "- num_tl_op_past_12m оставляем, так как оно более полное и включает все кредиты.\n",
    "- acc_open_past_24mths оставляем, так как оно более полное и включает все кредиты. \n",
    "- bc_open_to_buy оставляем, так как оно показывает, сколько клиенту доступно для покупки по кредитной карте. И более интересно, чем общий кредитный лимит по всем картам.\n",
    "- open_il_12m и open_rv_12m оставляем, так как в них отражена более свежая история по открытым счетам.\n",
    "- il_util оставляем, схожее удаляем.\n",
    "\n",
    "Создадим список полей, которые мы оставляем"
   ]
  },
  {
   "cell_type": "code",
   "execution_count": 22,
   "metadata": {},
   "outputs": [],
   "source": [
    "cols_to_leave = ['revol_util', 'num_actv_rev_tl', 'num_rev_accts', 'revol_bal', 'loan_amnt', 'mths_since_last_delinq', 'open_acc', 'out_prncp', 'total_pmnt', 'recoveries', 'total_bal_il', 'avg_cur_bal', 'num_tl_op_past_12m', 'acc_open_past_24mths', 'bc_open_to_buy', 'fico_range_high', 'last_fico_range_high', 'open_il_12m', 'open_rv_12m', 'il_util']"
   ]
  },
  {
   "cell_type": "markdown",
   "metadata": {},
   "source": [
    "Создадим список всех коррелируемых полей, а затем выделим те столбцы, которые нужно удалить"
   ]
  },
  {
   "cell_type": "code",
   "execution_count": 23,
   "metadata": {},
   "outputs": [],
   "source": [
    "cols_corr = []\n",
    "\n",
    "for col in df_corr.columns:\n",
    "    df_check = df_corr[(abs(df_corr[col]) >= 0.8) & (df_corr[col] != 1)]\n",
    "    corr_list = df_check.index.values.tolist()\n",
    "    \n",
    "    if len(corr_list) != 0:\n",
    "        for corr_col in corr_list:\n",
    "            cols_corr.append(corr_col)\n",
    "\n",
    "cols_corr = list(set(cols_corr))"
   ]
  },
  {
   "cell_type": "code",
   "execution_count": 24,
   "metadata": {},
   "outputs": [],
   "source": [
    "cols_to_del = cols_corr.copy()\n",
    "\n",
    "for col_corr in cols_corr:\n",
    "    for col in cols_to_leave:\n",
    "        if col_corr == col:\n",
    "            cols_to_del.remove(col_corr)"
   ]
  },
  {
   "cell_type": "code",
   "execution_count": 25,
   "metadata": {},
   "outputs": [
    {
     "data": {
      "text/plain": [
       "['tot_cur_bal',\n",
       " 'collection_recovery_fee',\n",
       " 'num_bc_sats',\n",
       " 'bc_util',\n",
       " 'out_prncp_inv',\n",
       " 'total_il_high_credit_limit',\n",
       " 'all_util',\n",
       " 'total_bal_ex_mort',\n",
       " 'num_sats',\n",
       " 'num_rev_tl_bal_gt_0',\n",
       " 'total_bc_limit',\n",
       " 'tot_hi_cred_lim',\n",
       " 'total_pymnt',\n",
       " 'num_op_rev_tl',\n",
       " 'fico_range_low',\n",
       " 'funded_amnt',\n",
       " 'total_pymnt_inv',\n",
       " 'num_actv_bc_tl',\n",
       " 'last_fico_range_low',\n",
       " 'open_il_24m',\n",
       " 'total_rec_prncp',\n",
       " 'installment',\n",
       " 'open_rv_24m',\n",
       " 'funded_amnt_inv',\n",
       " 'num_bc_tl',\n",
       " 'percent_bc_gt_75']"
      ]
     },
     "execution_count": 25,
     "metadata": {},
     "output_type": "execute_result"
    }
   ],
   "source": [
    "cols_to_del"
   ]
  },
  {
   "cell_type": "markdown",
   "metadata": {},
   "source": [
    "Удалим из датасета коррелируемые столбцы и текстовые столбцы, которые были определены ранее. Также удалим всё, что связано с датами.\n",
    "Для начала определим поля, которые являются датами."
   ]
  },
  {
   "cell_type": "code",
   "execution_count": 26,
   "metadata": {},
   "outputs": [],
   "source": [
    "for col in data.columns:\n",
    "    if data[col].dtype == 'object':\n",
    "        try:\n",
    "            data[col] = pd.to_datetime(data[col])\n",
    "        except ValueError:\n",
    "            pass"
   ]
  },
  {
   "cell_type": "markdown",
   "metadata": {},
   "source": [
    "Создадим список, в котором определим названия полей с датами"
   ]
  },
  {
   "cell_type": "code",
   "execution_count": 27,
   "metadata": {},
   "outputs": [
    {
     "data": {
      "text/plain": [
       "['issue_d', 'earliest_cr_line', 'last_pymnt_d', 'last_credit_pull_d']"
      ]
     },
     "execution_count": 27,
     "metadata": {},
     "output_type": "execute_result"
    }
   ],
   "source": [
    "col_dates = data.select_dtypes(include=[np.datetime64]).columns.tolist()\n",
    "col_dates"
   ]
  },
  {
   "cell_type": "markdown",
   "metadata": {},
   "source": [
    "В данных присутствуют два поля, характеризующих буквенного обозначения кредитного рейтинга. Grade и sub_grade. Второе поле более расширенное, поэтому имеет смысл удалить поле grade.\n",
    "Также имеет смысл удалить поле, в котором только одно уникальное значение, так как оно не будет иметь никакой смысловой нагрузки для анализа. Найдем его."
   ]
  },
  {
   "cell_type": "code",
   "execution_count": 28,
   "metadata": {},
   "outputs": [
    {
     "name": "stdout",
     "output_type": "stream",
     "text": [
      "policy_code\n"
     ]
    }
   ],
   "source": [
    "for col in data.columns:\n",
    "    val_cnt = len(data[col].unique())\n",
    "    if val_cnt == 1:\n",
    "        print(col)"
   ]
  },
  {
   "cell_type": "markdown",
   "metadata": {},
   "source": [
    "Поле policy_code имеет одно значение, поэтому удалим его из дальнейшего рассмотрения. Создадим общий список, в котором определим все поля для удаления"
   ]
  },
  {
   "cell_type": "code",
   "execution_count": 29,
   "metadata": {},
   "outputs": [
    {
     "data": {
      "text/plain": [
       "['tot_cur_bal',\n",
       " 'collection_recovery_fee',\n",
       " 'num_bc_sats',\n",
       " 'bc_util',\n",
       " 'out_prncp_inv',\n",
       " 'total_il_high_credit_limit',\n",
       " 'all_util',\n",
       " 'total_bal_ex_mort',\n",
       " 'num_sats',\n",
       " 'num_rev_tl_bal_gt_0',\n",
       " 'total_bc_limit',\n",
       " 'tot_hi_cred_lim',\n",
       " 'total_pymnt',\n",
       " 'num_op_rev_tl',\n",
       " 'fico_range_low',\n",
       " 'funded_amnt',\n",
       " 'total_pymnt_inv',\n",
       " 'num_actv_bc_tl',\n",
       " 'last_fico_range_low',\n",
       " 'open_il_24m',\n",
       " 'total_rec_prncp',\n",
       " 'installment',\n",
       " 'open_rv_24m',\n",
       " 'funded_amnt_inv',\n",
       " 'num_bc_tl',\n",
       " 'percent_bc_gt_75',\n",
       " 'emp_title',\n",
       " 'title',\n",
       " 'grade',\n",
       " 'policy_code',\n",
       " 'issue_d',\n",
       " 'earliest_cr_line',\n",
       " 'last_pymnt_d',\n",
       " 'last_credit_pull_d']"
      ]
     },
     "execution_count": 29,
     "metadata": {},
     "output_type": "execute_result"
    }
   ],
   "source": [
    "cols_to_del.append('emp_title')\n",
    "cols_to_del.append('title')\n",
    "cols_to_del.append('grade')\n",
    "cols_to_del.append('policy_code')\n",
    "\n",
    "for col in col_dates:\n",
    "    cols_to_del.append(col)\n",
    "    \n",
    "cols_to_del"
   ]
  },
  {
   "cell_type": "markdown",
   "metadata": {},
   "source": [
    "## Подготовим данные для анализа:\n",
    "- Преобразуем целевую переменную, так как она категориальная.\n",
    "- Преобразуем категориальные переменные в dummy переменные.\n",
    "- Числовые данные стандратизируем. Это необходимо для построения одной из моделей.\n",
    "- Исключим ненужные переменные.\n",
    "\n",
    "Для начала посмотрим, какие данные принимает целевая переменная loan_status"
   ]
  },
  {
   "cell_type": "code",
   "execution_count": 30,
   "metadata": {},
   "outputs": [
    {
     "data": {
      "text/plain": [
       "Fully Paid                                             69989\n",
       "Charged Off                                            27132\n",
       "Late (31-120 days)                                      2139\n",
       "In Grace Period                                          854\n",
       "Late (16-30 days)                                        404\n",
       "Does not meet the credit policy. Status:Fully Paid       202\n",
       "Does not meet the credit policy. Status:Charged Off       71\n",
       "Default                                                    3\n",
       "Name: loan_status, dtype: int64"
      ]
     },
     "execution_count": 30,
     "metadata": {},
     "output_type": "execute_result"
    }
   ],
   "source": [
    "data['loan_status'].value_counts(dropna=False)"
   ]
  },
  {
   "cell_type": "markdown",
   "metadata": {},
   "source": [
    "Как мы видим, в нашей целевой несколько значений. Основные значения Fully Paid и Charged Off. Преобразуем данные в 0 и 1."
   ]
  },
  {
   "cell_type": "code",
   "execution_count": 31,
   "metadata": {},
   "outputs": [
    {
     "data": {
      "text/plain": [
       "0    0.696381\n",
       "1    0.303619\n",
       "Name: loan_status, dtype: float64"
      ]
     },
     "execution_count": 31,
     "metadata": {},
     "output_type": "execute_result"
    }
   ],
   "source": [
    "data['loan_status'] = np.where(data['loan_status'].str.contains('Fully Paid', regex=False), 0, 1)\n",
    "data['loan_status'].value_counts(normalize=True)"
   ]
  },
  {
   "cell_type": "markdown",
   "metadata": {},
   "source": [
    "После всех преобразований можно сделать вывод, что в нашем таргете 30% целевых событий.\n",
    "\n",
    "Определим поля, которые мы будем преобразовать в dummy."
   ]
  },
  {
   "cell_type": "code",
   "execution_count": 32,
   "metadata": {},
   "outputs": [
    {
     "data": {
      "text/plain": [
       "Index(['term', 'sub_grade', 'emp_length', 'home_ownership',\n",
       "       'verification_status', 'pymnt_plan', 'purpose', 'initial_list_status',\n",
       "       'application_type', 'hardship_flag', 'disbursement_method',\n",
       "       'debt_settlement_flag'],\n",
       "      dtype='object')"
      ]
     },
     "execution_count": 32,
     "metadata": {},
     "output_type": "execute_result"
    }
   ],
   "source": [
    "cols_for_dummy = data[data.columns[~data.columns.isin(cols_to_del)]].select_dtypes(include='object').columns\n",
    "cols_for_dummy"
   ]
  },
  {
   "cell_type": "markdown",
   "metadata": {},
   "source": [
    "Определим столбцы, которые мы будем удалять после преобразования в дамми с учетом ранее определенных для удаления полей."
   ]
  },
  {
   "cell_type": "code",
   "execution_count": 33,
   "metadata": {},
   "outputs": [],
   "source": [
    "cols_for_drop = data.columns[data.columns.isin(cols_to_del) | data.columns.isin(cols_for_dummy)]"
   ]
  },
  {
   "cell_type": "markdown",
   "metadata": {},
   "source": [
    "Определим столбцы, которые будут стандартизироваться в рамках построения одной из моделей"
   ]
  },
  {
   "cell_type": "code",
   "execution_count": 34,
   "metadata": {},
   "outputs": [
    {
     "data": {
      "text/plain": [
       "Index(['loan_amnt', 'int_rate', 'annual_inc', 'dti', 'delinq_2yrs',\n",
       "       'fico_range_high', 'inq_last_6mths', 'mths_since_last_delinq',\n",
       "       'mths_since_last_record', 'open_acc', 'pub_rec', 'revol_bal',\n",
       "       'revol_util', 'total_acc', 'out_prncp', 'total_rec_int',\n",
       "       'total_rec_late_fee', 'recoveries', 'last_pymnt_amnt',\n",
       "       'last_fico_range_high', 'collections_12_mths_ex_med',\n",
       "       'mths_since_last_major_derog', 'acc_now_delinq', 'tot_coll_amt',\n",
       "       'open_acc_6m', 'open_act_il', 'open_il_12m', 'mths_since_rcnt_il',\n",
       "       'total_bal_il', 'il_util', 'open_rv_12m', 'max_bal_bc',\n",
       "       'total_rev_hi_lim', 'inq_fi', 'total_cu_tl', 'inq_last_12m',\n",
       "       'acc_open_past_24mths', 'avg_cur_bal', 'bc_open_to_buy',\n",
       "       'chargeoff_within_12_mths', 'delinq_amnt', 'mo_sin_old_il_acct',\n",
       "       'mo_sin_old_rev_tl_op', 'mo_sin_rcnt_rev_tl_op', 'mo_sin_rcnt_tl',\n",
       "       'mort_acc', 'mths_since_recent_bc', 'mths_since_recent_bc_dlq',\n",
       "       'mths_since_recent_inq', 'mths_since_recent_revol_delinq',\n",
       "       'num_accts_ever_120_pd', 'num_actv_rev_tl', 'num_il_tl',\n",
       "       'num_rev_accts', 'num_tl_120dpd_2m', 'num_tl_30dpd',\n",
       "       'num_tl_90g_dpd_24m', 'num_tl_op_past_12m', 'pct_tl_nvr_dlq',\n",
       "       'pub_rec_bankruptcies', 'tax_liens'],\n",
       "      dtype='object')"
      ]
     },
     "execution_count": 34,
     "metadata": {},
     "output_type": "execute_result"
    }
   ],
   "source": [
    "num_cols = data[data.columns[~data.columns.isin(cols_to_del)]].select_dtypes(include='float64').columns\n",
    "num_cols"
   ]
  },
  {
   "cell_type": "markdown",
   "metadata": {},
   "source": [
    "Запишем функцию для преобразования датасета"
   ]
  },
  {
   "cell_type": "code",
   "execution_count": 35,
   "metadata": {},
   "outputs": [],
   "source": [
    "def data_preprocessing(data, categorial_cols, cols_for_del):\n",
    "    \n",
    "    #Преобразование категориальных переменных\n",
    "    data_dumm = pd.get_dummies(data[categorial_cols], prefix=categorial_cols, prefix_sep='=')\n",
    "    data = pd.concat([data, data_dumm], axis=1)\n",
    "    \n",
    "    #Удаление переменных\n",
    "    data = data.drop(cols_for_del, axis=1)\n",
    "    \n",
    "    return data"
   ]
  },
  {
   "cell_type": "code",
   "execution_count": 149,
   "metadata": {},
   "outputs": [],
   "source": [
    "data_preproc = data_preprocessing(data,\n",
    "                                  categorial_cols=cols_for_dummy,\n",
    "                                  cols_for_del=cols_for_drop)"
   ]
  },
  {
   "cell_type": "code",
   "execution_count": 150,
   "metadata": {},
   "outputs": [
    {
     "data": {
      "text/html": [
       "<div>\n",
       "<style scoped>\n",
       "    .dataframe tbody tr th:only-of-type {\n",
       "        vertical-align: middle;\n",
       "    }\n",
       "\n",
       "    .dataframe tbody tr th {\n",
       "        vertical-align: top;\n",
       "    }\n",
       "\n",
       "    .dataframe thead th {\n",
       "        text-align: right;\n",
       "    }\n",
       "</style>\n",
       "<table border=\"1\" class=\"dataframe\">\n",
       "  <thead>\n",
       "    <tr style=\"text-align: right;\">\n",
       "      <th></th>\n",
       "      <th>loan_amnt</th>\n",
       "      <th>int_rate</th>\n",
       "      <th>annual_inc</th>\n",
       "      <th>loan_status</th>\n",
       "      <th>dti</th>\n",
       "      <th>delinq_2yrs</th>\n",
       "      <th>fico_range_high</th>\n",
       "      <th>inq_last_6mths</th>\n",
       "      <th>mths_since_last_delinq</th>\n",
       "      <th>mths_since_last_record</th>\n",
       "      <th>...</th>\n",
       "      <th>initial_list_status=f</th>\n",
       "      <th>initial_list_status=w</th>\n",
       "      <th>application_type=Individual</th>\n",
       "      <th>application_type=Joint App</th>\n",
       "      <th>hardship_flag=N</th>\n",
       "      <th>hardship_flag=Y</th>\n",
       "      <th>disbursement_method=Cash</th>\n",
       "      <th>disbursement_method=DirectPay</th>\n",
       "      <th>debt_settlement_flag=N</th>\n",
       "      <th>debt_settlement_flag=Y</th>\n",
       "    </tr>\n",
       "  </thead>\n",
       "  <tbody>\n",
       "    <tr>\n",
       "      <th>0</th>\n",
       "      <td>15000.0</td>\n",
       "      <td>11.44</td>\n",
       "      <td>27000.0</td>\n",
       "      <td>0</td>\n",
       "      <td>28.82</td>\n",
       "      <td>0.0</td>\n",
       "      <td>744.0</td>\n",
       "      <td>0.0</td>\n",
       "      <td>0.0</td>\n",
       "      <td>0.0</td>\n",
       "      <td>...</td>\n",
       "      <td>1</td>\n",
       "      <td>0</td>\n",
       "      <td>0</td>\n",
       "      <td>1</td>\n",
       "      <td>1</td>\n",
       "      <td>0</td>\n",
       "      <td>1</td>\n",
       "      <td>0</td>\n",
       "      <td>1</td>\n",
       "      <td>0</td>\n",
       "    </tr>\n",
       "    <tr>\n",
       "      <th>1</th>\n",
       "      <td>6000.0</td>\n",
       "      <td>15.22</td>\n",
       "      <td>50000.0</td>\n",
       "      <td>0</td>\n",
       "      <td>9.89</td>\n",
       "      <td>0.0</td>\n",
       "      <td>719.0</td>\n",
       "      <td>0.0</td>\n",
       "      <td>0.0</td>\n",
       "      <td>0.0</td>\n",
       "      <td>...</td>\n",
       "      <td>1</td>\n",
       "      <td>0</td>\n",
       "      <td>1</td>\n",
       "      <td>0</td>\n",
       "      <td>1</td>\n",
       "      <td>0</td>\n",
       "      <td>1</td>\n",
       "      <td>0</td>\n",
       "      <td>1</td>\n",
       "      <td>0</td>\n",
       "    </tr>\n",
       "    <tr>\n",
       "      <th>2</th>\n",
       "      <td>16000.0</td>\n",
       "      <td>5.32</td>\n",
       "      <td>72000.0</td>\n",
       "      <td>0</td>\n",
       "      <td>21.22</td>\n",
       "      <td>0.0</td>\n",
       "      <td>739.0</td>\n",
       "      <td>0.0</td>\n",
       "      <td>72.0</td>\n",
       "      <td>0.0</td>\n",
       "      <td>...</td>\n",
       "      <td>0</td>\n",
       "      <td>1</td>\n",
       "      <td>1</td>\n",
       "      <td>0</td>\n",
       "      <td>1</td>\n",
       "      <td>0</td>\n",
       "      <td>1</td>\n",
       "      <td>0</td>\n",
       "      <td>1</td>\n",
       "      <td>0</td>\n",
       "    </tr>\n",
       "    <tr>\n",
       "      <th>3</th>\n",
       "      <td>24150.0</td>\n",
       "      <td>21.49</td>\n",
       "      <td>124000.0</td>\n",
       "      <td>1</td>\n",
       "      <td>5.68</td>\n",
       "      <td>0.0</td>\n",
       "      <td>729.0</td>\n",
       "      <td>3.0</td>\n",
       "      <td>0.0</td>\n",
       "      <td>0.0</td>\n",
       "      <td>...</td>\n",
       "      <td>1</td>\n",
       "      <td>0</td>\n",
       "      <td>1</td>\n",
       "      <td>0</td>\n",
       "      <td>1</td>\n",
       "      <td>0</td>\n",
       "      <td>1</td>\n",
       "      <td>0</td>\n",
       "      <td>1</td>\n",
       "      <td>0</td>\n",
       "    </tr>\n",
       "    <tr>\n",
       "      <th>4</th>\n",
       "      <td>27425.0</td>\n",
       "      <td>11.99</td>\n",
       "      <td>200000.0</td>\n",
       "      <td>0</td>\n",
       "      <td>23.91</td>\n",
       "      <td>0.0</td>\n",
       "      <td>744.0</td>\n",
       "      <td>0.0</td>\n",
       "      <td>74.0</td>\n",
       "      <td>0.0</td>\n",
       "      <td>...</td>\n",
       "      <td>0</td>\n",
       "      <td>1</td>\n",
       "      <td>1</td>\n",
       "      <td>0</td>\n",
       "      <td>1</td>\n",
       "      <td>0</td>\n",
       "      <td>1</td>\n",
       "      <td>0</td>\n",
       "      <td>1</td>\n",
       "      <td>0</td>\n",
       "    </tr>\n",
       "  </tbody>\n",
       "</table>\n",
       "<p>5 rows × 146 columns</p>\n",
       "</div>"
      ],
      "text/plain": [
       "   loan_amnt  int_rate  annual_inc  loan_status    dti  delinq_2yrs  \\\n",
       "0    15000.0     11.44     27000.0            0  28.82          0.0   \n",
       "1     6000.0     15.22     50000.0            0   9.89          0.0   \n",
       "2    16000.0      5.32     72000.0            0  21.22          0.0   \n",
       "3    24150.0     21.49    124000.0            1   5.68          0.0   \n",
       "4    27425.0     11.99    200000.0            0  23.91          0.0   \n",
       "\n",
       "   fico_range_high  inq_last_6mths  mths_since_last_delinq  \\\n",
       "0            744.0             0.0                     0.0   \n",
       "1            719.0             0.0                     0.0   \n",
       "2            739.0             0.0                    72.0   \n",
       "3            729.0             3.0                     0.0   \n",
       "4            744.0             0.0                    74.0   \n",
       "\n",
       "   mths_since_last_record  ...  initial_list_status=f  initial_list_status=w  \\\n",
       "0                     0.0  ...                      1                      0   \n",
       "1                     0.0  ...                      1                      0   \n",
       "2                     0.0  ...                      0                      1   \n",
       "3                     0.0  ...                      1                      0   \n",
       "4                     0.0  ...                      0                      1   \n",
       "\n",
       "   application_type=Individual  application_type=Joint App  hardship_flag=N  \\\n",
       "0                            0                           1                1   \n",
       "1                            1                           0                1   \n",
       "2                            1                           0                1   \n",
       "3                            1                           0                1   \n",
       "4                            1                           0                1   \n",
       "\n",
       "   hardship_flag=Y  disbursement_method=Cash  disbursement_method=DirectPay  \\\n",
       "0                0                         1                              0   \n",
       "1                0                         1                              0   \n",
       "2                0                         1                              0   \n",
       "3                0                         1                              0   \n",
       "4                0                         1                              0   \n",
       "\n",
       "   debt_settlement_flag=N  debt_settlement_flag=Y  \n",
       "0                       1                       0  \n",
       "1                       1                       0  \n",
       "2                       1                       0  \n",
       "3                       1                       0  \n",
       "4                       1                       0  \n",
       "\n",
       "[5 rows x 146 columns]"
      ]
     },
     "execution_count": 150,
     "metadata": {},
     "output_type": "execute_result"
    }
   ],
   "source": [
    "data_preproc.head()"
   ]
  },
  {
   "cell_type": "markdown",
   "metadata": {},
   "source": [
    "После дополнительного анализа данных, имеет смысл удалить один из признаков в полях, в которых изначально было два значения - это pymnt_plan, hardship_flag, debt_settlement_flag, term, initial_list, application_type, disbursement_method."
   ]
  },
  {
   "cell_type": "code",
   "execution_count": 151,
   "metadata": {},
   "outputs": [],
   "source": [
    "data_preproc = data_preproc.drop(['pymnt_plan=n',\n",
    "'hardship_flag=N',\n",
    "'debt_settlement_flag=N', 'term= 36 months', 'initial_list_status=f', 'disbursement_method=Cash', 'application_type=Individual'], axis=1)"
   ]
  },
  {
   "cell_type": "markdown",
   "metadata": {},
   "source": [
    "После того, как мы преобразовали данные, имеет смысл посмотреть с какими признаками целевая наиболее зависима. Для этого рассчитаем корреляцию."
   ]
  },
  {
   "cell_type": "code",
   "execution_count": 152,
   "metadata": {},
   "outputs": [],
   "source": [
    "trg_corr_final = pd.DataFrame(columns=['corr'])\n",
    "\n",
    "for col in data_preproc.columns:\n",
    "    trg_corr = pd.DataFrame(columns=['corr'], index=[col])\n",
    "    trg_corr['corr'] = abs(data_preproc[['loan_status', col]].corr().iloc[0, 1])\n",
    "    trg_corr_final = pd.concat((trg_corr_final, trg_corr), axis=0)"
   ]
  },
  {
   "cell_type": "markdown",
   "metadata": {},
   "source": [
    "Теперь значения с максимальными значениями корреляции. Отсортируем по убыванию."
   ]
  },
  {
   "cell_type": "code",
   "execution_count": 153,
   "metadata": {},
   "outputs": [
    {
     "data": {
      "text/html": [
       "<div>\n",
       "<style scoped>\n",
       "    .dataframe tbody tr th:only-of-type {\n",
       "        vertical-align: middle;\n",
       "    }\n",
       "\n",
       "    .dataframe tbody tr th {\n",
       "        vertical-align: top;\n",
       "    }\n",
       "\n",
       "    .dataframe thead th {\n",
       "        text-align: right;\n",
       "    }\n",
       "</style>\n",
       "<table border=\"1\" class=\"dataframe\">\n",
       "  <thead>\n",
       "    <tr style=\"text-align: right;\">\n",
       "      <th></th>\n",
       "      <th>corr</th>\n",
       "    </tr>\n",
       "  </thead>\n",
       "  <tbody>\n",
       "    <tr>\n",
       "      <th>loan_status</th>\n",
       "      <td>1.000000</td>\n",
       "    </tr>\n",
       "    <tr>\n",
       "      <th>last_fico_range_high</th>\n",
       "      <td>0.697089</td>\n",
       "    </tr>\n",
       "    <tr>\n",
       "      <th>recoveries</th>\n",
       "      <td>0.442604</td>\n",
       "    </tr>\n",
       "    <tr>\n",
       "      <th>last_pymnt_amnt</th>\n",
       "      <td>0.417267</td>\n",
       "    </tr>\n",
       "    <tr>\n",
       "      <th>debt_settlement_flag=Y</th>\n",
       "      <td>0.285880</td>\n",
       "    </tr>\n",
       "    <tr>\n",
       "      <th>int_rate</th>\n",
       "      <td>0.254710</td>\n",
       "    </tr>\n",
       "    <tr>\n",
       "      <th>out_prncp</th>\n",
       "      <td>0.225463</td>\n",
       "    </tr>\n",
       "    <tr>\n",
       "      <th>term= 60 months</th>\n",
       "      <td>0.191505</td>\n",
       "    </tr>\n",
       "    <tr>\n",
       "      <th>total_rec_late_fee</th>\n",
       "      <td>0.167587</td>\n",
       "    </tr>\n",
       "    <tr>\n",
       "      <th>fico_range_high</th>\n",
       "      <td>0.150541</td>\n",
       "    </tr>\n",
       "  </tbody>\n",
       "</table>\n",
       "</div>"
      ],
      "text/plain": [
       "                            corr\n",
       "loan_status             1.000000\n",
       "last_fico_range_high    0.697089\n",
       "recoveries              0.442604\n",
       "last_pymnt_amnt         0.417267\n",
       "debt_settlement_flag=Y  0.285880\n",
       "int_rate                0.254710\n",
       "out_prncp               0.225463\n",
       "term= 60 months         0.191505\n",
       "total_rec_late_fee      0.167587\n",
       "fico_range_high         0.150541"
      ]
     },
     "execution_count": 153,
     "metadata": {},
     "output_type": "execute_result"
    }
   ],
   "source": [
    "trg_corr_final = trg_corr_final.sort_values(by='corr', ascending=False)\n",
    "trg_corr_final.head(10)"
   ]
  },
  {
   "cell_type": "markdown",
   "metadata": {},
   "source": [
    "Можно выделить следующие признаки, которые наиболее взаимосвязаны с целевой:\n",
    "- last_fico_range_high\n",
    "- recoveries\n",
    "- last_pymnt_amnt\n",
    "- debt_settlement_flag=Y\n",
    "- int_rate\n",
    "- out_prncp\n",
    "\n",
    "Включение каких-то из этих признаков может негативно сказываться на качестве нашей модели. Посмотрим на распределение этих признаков в целевой."
   ]
  },
  {
   "cell_type": "code",
   "execution_count": 154,
   "metadata": {},
   "outputs": [],
   "source": [
    "X_corr_for_plot = data_preproc[['last_fico_range_high', 'recoveries', 'last_pymnt_amnt', 'debt_settlement_flag=Y', 'int_rate', 'out_prncp']].columns"
   ]
  },
  {
   "cell_type": "code",
   "execution_count": 155,
   "metadata": {},
   "outputs": [
    {
     "data": {
      "image/png": "[encoded data removed]",
      "text/plain": [
       "<Figure size 1224x864 with 6 Axes>"
      ]
     },
     "metadata": {
      "needs_background": "light"
     },
     "output_type": "display_data"
    }
   ],
   "source": [
    "# Define size of the figure\n",
    "plt.figure(figsize=(17, 12))\n",
    "\n",
    "# For each column ...\n",
    "for i_col in range(len(X_corr_for_plot)):\n",
    "    \n",
    "    # Create subplot for each column\n",
    "    plt.subplot(3, 3, i_col+1)\n",
    "    \n",
    "    # Get column and label values\n",
    "    x_col = data_preproc[X_corr_for_plot[i_col]].values\n",
    "    y_col = data_preproc[y_column].values\n",
    "    \n",
    "    # Plot histograms\n",
    "    bins = np.linspace(0, x_col.max(), 21)\n",
    "    plt.grid(alpha = 0.3)\n",
    "    plt.hist(x_col[y_col == 0], bins=bins, color='r', alpha=0.5, label='0')\n",
    "    plt.hist(x_col[y_col == 1], bins=bins, color='b', alpha=0.5, label='1')\n",
    "    \n",
    "    # Labels and legend\n",
    "    plt.xlabel(X_corr_for_plot[i_col])\n",
    "    plt.ylabel('Counts')\n",
    "    plt.legend(loc='best')\n",
    "    \n",
    "plt.show()"
   ]
  },
  {
   "cell_type": "markdown",
   "metadata": {},
   "source": [
    "На основании построенных графиков можно сделать вывод о том, что факторы last_fico_range_high и last_pymnt_amnt имеет смысл убрать из дальнейшего анализа, так как значения по этим полям четко разделяют клиентов по целевой (т.е. по сути являются ее дублем). \n",
    "Также стоит убрать факторы recoveries и out_prncp. Это числовые поля, в которых содержатся суммы, но по сути все значения там 0, а наличие какой-либо сумму определяет состояние просроченного кредита. \n",
    "Показатель debt_settlement_flag=Y также стоит убрать, там 99% значений это 0, а факт наличия этого признака у клиента будет означать просрочку по кредиту.\n",
    "\n",
    "Удалим эти показатели из наших данных."
   ]
  },
  {
   "cell_type": "code",
   "execution_count": 156,
   "metadata": {},
   "outputs": [],
   "source": [
    "data_preproc = data_preproc.drop(['last_fico_range_high',\n",
    "'recoveries',\n",
    "'last_pymnt_amnt',\n",
    "'debt_settlement_flag=Y',\n",
    "'out_prncp'], axis=1)"
   ]
  },
  {
   "cell_type": "markdown",
   "metadata": {},
   "source": [
    "Теперь построим графики распределения целевой переменной среди наиболее важных на наш взгляд из оставшихся факторов:\n",
    "- loan_amnt\n",
    "- int_rate\n",
    "- fico_range_high\n",
    "- mths_since_last_delinq\n",
    "- emp_length=10+ years\n",
    "- acc_open_past_24mths"
   ]
  },
  {
   "cell_type": "code",
   "execution_count": 157,
   "metadata": {},
   "outputs": [],
   "source": [
    "X_for_plot = data_preproc[['loan_amnt', 'int_rate', 'fico_range_high', 'mths_since_last_delinq', 'emp_length=10+ years', 'acc_open_past_24mths']].columns"
   ]
  },
  {
   "cell_type": "code",
   "execution_count": 158,
   "metadata": {},
   "outputs": [
    {
     "data": {
      "image/png": "[encoded data removed]",
      "text/plain": [
       "<Figure size 1224x864 with 6 Axes>"
      ]
     },
     "metadata": {
      "needs_background": "light"
     },
     "output_type": "display_data"
    }
   ],
   "source": [
    "# Define size of the figure\n",
    "plt.figure(figsize=(17, 12))\n",
    "\n",
    "# For each column ...\n",
    "for i_col in range(len(X_for_plot)):\n",
    "    \n",
    "    # Create subplot for each column\n",
    "    plt.subplot(3, 3, i_col+1)\n",
    "    \n",
    "    # Get column and label values\n",
    "    x_col = data_preproc[X_for_plot[i_col]].values\n",
    "    y_col = data_preproc[y_column].values\n",
    "    \n",
    "    # Plot histograms\n",
    "    bins = np.linspace(0, x_col.max(), 21)\n",
    "    plt.grid(alpha = 0.3)\n",
    "    plt.hist(x_col[y_col == 0], bins=bins, color='r', alpha=0.5, label='0')\n",
    "    plt.hist(x_col[y_col == 1], bins=bins, color='b', alpha=0.5, label='1')\n",
    "    \n",
    "    # Labels and legend\n",
    "    plt.xlabel(X_for_plot[i_col])\n",
    "    plt.ylabel('Counts')\n",
    "    plt.legend(loc='best')\n",
    "    \n",
    "plt.show()"
   ]
  },
  {
   "cell_type": "markdown",
   "metadata": {},
   "source": [
    "Исходя из графиков выше мы видим, что:\n",
    "- Чем выше у клиента кредитная задолженность, тем выше вероятность кредитного дефолта. \n",
    "- Аналогичную ситуацию мы видим по клиентам с низким кредитным рейтингом и по клиентам, у которых высокая процентная ставка.\n",
    "- Чем меньше месяцев прошло с последней просрочки кредита, тем выше вероятность кредитного дефолта.\n",
    "- Чем больше у клиента открытых счетов за последние 2 года, тем выше его вероятность просрочить кредит.\n",
    "- Клиенты, у которых большой опыт работы, менее склонны к просрочке кредита."
   ]
  },
  {
   "cell_type": "markdown",
   "metadata": {},
   "source": [
    "# Построение моделей прогнозирования кредитного дефолта\n",
    "В рамках построения будут строиться три модели:\n",
    "- Логистическая регрессия.\n",
    "- Random Forest.\n",
    "- Gradient Boosting "
   ]
  },
  {
   "cell_type": "markdown",
   "metadata": {},
   "source": [
    "Для начала разделим наши исходные данные на обучающую (80%) и тестовую (20%) выборки."
   ]
  },
  {
   "cell_type": "code",
   "execution_count": 159,
   "metadata": {},
   "outputs": [],
   "source": [
    "y_column = 'loan_status'\n",
    "X_columns = data_preproc.columns[data_preproc.columns != y_column]\n",
    "\n",
    "X = data_preproc[X_columns]\n",
    "y = data_preproc[y_column]\n",
    "\n",
    "X_train, X_test, y_train, y_test = train_test_split(X, y, \n",
    "                                                    test_size=0.2, \n",
    "                                                    random_state=123)"
   ]
  },
  {
   "cell_type": "markdown",
   "metadata": {},
   "source": [
    "Запишем функцию для сбора основных метрик оценки модели"
   ]
  },
  {
   "cell_type": "code",
   "execution_count": 160,
   "metadata": {},
   "outputs": [],
   "source": [
    "def quality_report(prediction, prediction_prob, actual, model):\n",
    "    quality_data = pd.DataFrame(columns=['Accuracy', 'Precision', 'Recall', 'f1_score', 'ROC-AUC', 'Gini'], index=[model])\n",
    "    \n",
    "    quality_data['Accuracy'] = round(accuracy_score(prediction, actual), 3)\n",
    "    quality_data['Precision'] = round(precision_score(prediction, actual), 3)\n",
    "    quality_data['Recall'] = round(recall_score(prediction, actual), 3)\n",
    "    quality_data['f1_score'] = round(f1_score(prediction, actual), 3)\n",
    "    quality_data['ROC-AUC'] = round(roc_auc_score(actual, prediction_prob), 3)\n",
    "    quality_data['Gini'] = round(2 * roc_auc_score(actual, prediction_prob) - 1, 3)\n",
    "    \n",
    "    return quality_data"
   ]
  },
  {
   "cell_type": "markdown",
   "metadata": {},
   "source": [
    "### Построение логистической регрессии\n",
    "Приступим к построению логистической регрессии. Для начала все числовые непрерывные переменные нужно преобразовать. Также по всем дамми переменным необходимо убрать один из уровней.\n",
    "Создадим копии обучающего и тестового датасетов."
   ]
  },
  {
   "cell_type": "code",
   "execution_count": 161,
   "metadata": {},
   "outputs": [],
   "source": [
    "X_train_lr = X_train.copy()\n",
    "X_train_lr = X_train_lr.reset_index(drop=True)\n",
    "X_test_lr = X_test.copy()\n",
    "X_test_lr = X_test_lr.reset_index(drop=True)"
   ]
  },
  {
   "cell_type": "markdown",
   "metadata": {},
   "source": [
    "Стандартизируем числовые данные"
   ]
  },
  {
   "cell_type": "code",
   "execution_count": 162,
   "metadata": {},
   "outputs": [],
   "source": [
    "num_cols_lr = list(num_cols.copy())\n",
    "el_to_del = ['last_fico_range_high', 'recoveries', 'out_prncp', 'last_pymnt_amnt']\n",
    "\n",
    "for elt in el_to_del:\n",
    "    num_cols_lr.remove(elt)"
   ]
  },
  {
   "cell_type": "code",
   "execution_count": 163,
   "metadata": {},
   "outputs": [],
   "source": [
    "scaler = StandardScaler()\n",
    "X_train_scaler = pd.DataFrame(scaler.fit_transform(X_train_lr[num_cols_lr]), columns=num_cols_lr)\n",
    "X_test_scaler = pd.DataFrame(scaler.transform(X_test_lr[num_cols_lr]), columns=num_cols_lr)"
   ]
  },
  {
   "cell_type": "markdown",
   "metadata": {},
   "source": [
    "Теперь удалим исходные числовые данные и подсоединим стандартизированные"
   ]
  },
  {
   "cell_type": "code",
   "execution_count": 164,
   "metadata": {},
   "outputs": [],
   "source": [
    "X_train_lr = X_train_lr.drop(num_cols_lr, axis=1)\n",
    "X_test_lr = X_test_lr.drop(num_cols_lr, axis=1)\n",
    "\n",
    "X_train_lr = pd.concat((X_train_lr, X_train_scaler), axis=1)\n",
    "X_test_lr = pd.concat((X_test_lr, X_test_scaler), axis=1)"
   ]
  },
  {
   "cell_type": "markdown",
   "metadata": {},
   "source": [
    "Теперь нужно удалить по одному признаку среди дамми факторов sub_grade, emp_length, purpose, home_ownership, verification_status. Как правило, удаляется тот уровень, в которое наибольшее количество наблюдений. Для определения базового уровня, мы можем обратиться к исходным данным."
   ]
  },
  {
   "cell_type": "code",
   "execution_count": 175,
   "metadata": {},
   "outputs": [
    {
     "name": "stdout",
     "output_type": "stream",
     "text": [
      "sub_grade=C1\n",
      "emp_length=10+ years\n",
      "purpose=debt_consolidation\n",
      "home_ownership=MORTGAGE\n",
      "verification_status=Source Verified\n"
     ]
    }
   ],
   "source": [
    "dummy_cols = ['sub_grade', 'emp_length', 'purpose', 'home_ownership', 'verification_status']\n",
    "\n",
    "for col in dummy_cols:\n",
    "    df = pd.DataFrame(data[col].value_counts()).reset_index()\n",
    "    print(col + '=' + df.iloc[0, 0])"
   ]
  },
  {
   "cell_type": "markdown",
   "metadata": {},
   "source": [
    "Теперь удалим эти уровни из обучающей и тестовой выборок."
   ]
  },
  {
   "cell_type": "code",
   "execution_count": 176,
   "metadata": {},
   "outputs": [],
   "source": [
    "X_train_lr = X_train_lr.drop(['sub_grade=C1',\n",
    "'emp_length=10+ years',\n",
    "'purpose=debt_consolidation',\n",
    "'home_ownership=MORTGAGE',\n",
    "'verification_status=Source Verified'], axis=1)\n",
    "X_test_lr = X_test_lr.drop(['sub_grade=C1',\n",
    "'emp_length=10+ years',\n",
    "'purpose=debt_consolidation',\n",
    "'home_ownership=MORTGAGE',\n",
    "'verification_status=Source Verified'], axis=1)"
   ]
  },
  {
   "cell_type": "markdown",
   "metadata": {},
   "source": [
    "После всех преобразований построим модель на базовых параметрах и сделаем прогноз "
   ]
  },
  {
   "cell_type": "code",
   "execution_count": 177,
   "metadata": {},
   "outputs": [
    {
     "data": {
      "text/html": [
       "<div>\n",
       "<style scoped>\n",
       "    .dataframe tbody tr th:only-of-type {\n",
       "        vertical-align: middle;\n",
       "    }\n",
       "\n",
       "    .dataframe tbody tr th {\n",
       "        vertical-align: top;\n",
       "    }\n",
       "\n",
       "    .dataframe thead th {\n",
       "        text-align: right;\n",
       "    }\n",
       "</style>\n",
       "<table border=\"1\" class=\"dataframe\">\n",
       "  <thead>\n",
       "    <tr style=\"text-align: right;\">\n",
       "      <th></th>\n",
       "      <th>Accuracy</th>\n",
       "      <th>Precision</th>\n",
       "      <th>Recall</th>\n",
       "      <th>f1_score</th>\n",
       "      <th>ROC-AUC</th>\n",
       "      <th>Gini</th>\n",
       "    </tr>\n",
       "  </thead>\n",
       "  <tbody>\n",
       "    <tr>\n",
       "      <th>Logistic Regression</th>\n",
       "      <td>0.749</td>\n",
       "      <td>0.351</td>\n",
       "      <td>0.664</td>\n",
       "      <td>0.459</td>\n",
       "      <td>0.768</td>\n",
       "      <td>0.535</td>\n",
       "    </tr>\n",
       "  </tbody>\n",
       "</table>\n",
       "</div>"
      ],
      "text/plain": [
       "                     Accuracy  Precision  Recall  f1_score  ROC-AUC   Gini\n",
       "Logistic Regression     0.749      0.351   0.664     0.459    0.768  0.535"
      ]
     },
     "execution_count": 177,
     "metadata": {},
     "output_type": "execute_result"
    }
   ],
   "source": [
    "lr = LogisticRegression()\n",
    "lr.fit(X_train_lr, y_train)\n",
    "lr_pred = lr.predict(X_test_lr)\n",
    "lr_pred_prob = lr.predict_proba(X_test_lr)[:, 1]\n",
    "\n",
    "lr_report = quality_report(lr_pred, lr_pred_prob, y_test, 'Logistic Regression')\n",
    "lr_report"
   ]
  },
  {
   "cell_type": "markdown",
   "metadata": {},
   "source": [
    "Теперь попробуем подобрать более оптимальные параметры для нашей модели при помощи кросс-валидации. Запишем параметры, которые мы будем подбирать. В логистической регрессии это параметры регуляризации."
   ]
  },
  {
   "cell_type": "code",
   "execution_count": 178,
   "metadata": {},
   "outputs": [],
   "source": [
    "parameters_lr = {'C' : [0.0001, 0.001, 0.01, 0.1, 1, 10, 100],\n",
    "             'penalty':['none', 'elasticnet', 'l1', 'l2']}"
   ]
  },
  {
   "cell_type": "markdown",
   "metadata": {},
   "source": [
    "В качестве максимизирующего признака будет использоваться Recall, так как мы хотим угадать больше клиентов, которые совершат просрочку."
   ]
  },
  {
   "cell_type": "code",
   "execution_count": 179,
   "metadata": {},
   "outputs": [
    {
     "data": {
      "text/plain": [
       "{'C': 0.0001, 'penalty': 'none'}"
      ]
     },
     "execution_count": 179,
     "metadata": {},
     "output_type": "execute_result"
    }
   ],
   "source": [
    "lr_gs = GridSearchCV(lr,  \n",
    "                  parameters_lr,\n",
    "                  scoring='recall',\n",
    "                  cv=5) \n",
    "\n",
    "lr_gs.fit(X_train_lr, y_train)\n",
    "lr_gs.best_params_"
   ]
  },
  {
   "cell_type": "code",
   "execution_count": 180,
   "metadata": {},
   "outputs": [
    {
     "data": {
      "text/html": [
       "<div>\n",
       "<style scoped>\n",
       "    .dataframe tbody tr th:only-of-type {\n",
       "        vertical-align: middle;\n",
       "    }\n",
       "\n",
       "    .dataframe tbody tr th {\n",
       "        vertical-align: top;\n",
       "    }\n",
       "\n",
       "    .dataframe thead th {\n",
       "        text-align: right;\n",
       "    }\n",
       "</style>\n",
       "<table border=\"1\" class=\"dataframe\">\n",
       "  <thead>\n",
       "    <tr style=\"text-align: right;\">\n",
       "      <th></th>\n",
       "      <th>Accuracy</th>\n",
       "      <th>Precision</th>\n",
       "      <th>Recall</th>\n",
       "      <th>f1_score</th>\n",
       "      <th>ROC-AUC</th>\n",
       "      <th>Gini</th>\n",
       "    </tr>\n",
       "  </thead>\n",
       "  <tbody>\n",
       "    <tr>\n",
       "      <th>Logistic Regression - GridSearch</th>\n",
       "      <td>0.75</td>\n",
       "      <td>0.356</td>\n",
       "      <td>0.663</td>\n",
       "      <td>0.463</td>\n",
       "      <td>0.768</td>\n",
       "      <td>0.536</td>\n",
       "    </tr>\n",
       "  </tbody>\n",
       "</table>\n",
       "</div>"
      ],
      "text/plain": [
       "                                  Accuracy  Precision  Recall  f1_score  \\\n",
       "Logistic Regression - GridSearch      0.75      0.356   0.663     0.463   \n",
       "\n",
       "                                  ROC-AUC   Gini  \n",
       "Logistic Regression - GridSearch    0.768  0.536  "
      ]
     },
     "execution_count": 180,
     "metadata": {},
     "output_type": "execute_result"
    }
   ],
   "source": [
    "lr_gs_pred = lr_gs.predict(X_test_lr)\n",
    "lr_gs_pred_prob = lr_gs.predict_proba(X_test_lr)[:, 1]\n",
    "\n",
    "lr_gs_report = quality_report(lr_gs_pred, lr_gs_pred_prob, y_test, 'Logistic Regression - GridSearch')\n",
    "lr_gs_report"
   ]
  },
  {
   "cell_type": "markdown",
   "metadata": {},
   "source": [
    "### Построение Random Forest\n",
    "Приступим к построению модели Random Forest."
   ]
  },
  {
   "cell_type": "markdown",
   "metadata": {},
   "source": [
    "Построим модель на базовых параметрах и сделаем прогноз"
   ]
  },
  {
   "cell_type": "code",
   "execution_count": 182,
   "metadata": {},
   "outputs": [
    {
     "data": {
      "text/html": [
       "<div>\n",
       "<style scoped>\n",
       "    .dataframe tbody tr th:only-of-type {\n",
       "        vertical-align: middle;\n",
       "    }\n",
       "\n",
       "    .dataframe tbody tr th {\n",
       "        vertical-align: top;\n",
       "    }\n",
       "\n",
       "    .dataframe thead th {\n",
       "        text-align: right;\n",
       "    }\n",
       "</style>\n",
       "<table border=\"1\" class=\"dataframe\">\n",
       "  <thead>\n",
       "    <tr style=\"text-align: right;\">\n",
       "      <th></th>\n",
       "      <th>Accuracy</th>\n",
       "      <th>Precision</th>\n",
       "      <th>Recall</th>\n",
       "      <th>f1_score</th>\n",
       "      <th>ROC-AUC</th>\n",
       "      <th>Gini</th>\n",
       "    </tr>\n",
       "  </thead>\n",
       "  <tbody>\n",
       "    <tr>\n",
       "      <th>Random Forest</th>\n",
       "      <td>0.755</td>\n",
       "      <td>0.324</td>\n",
       "      <td>0.711</td>\n",
       "      <td>0.445</td>\n",
       "      <td>0.773</td>\n",
       "      <td>0.547</td>\n",
       "    </tr>\n",
       "  </tbody>\n",
       "</table>\n",
       "</div>"
      ],
      "text/plain": [
       "               Accuracy  Precision  Recall  f1_score  ROC-AUC   Gini\n",
       "Random Forest     0.755      0.324   0.711     0.445    0.773  0.547"
      ]
     },
     "execution_count": 182,
     "metadata": {},
     "output_type": "execute_result"
    }
   ],
   "source": [
    "rf = RandomForestClassifier(random_state=42, n_jobs=-1)\n",
    "rf.fit(X_train, y_train)\n",
    "rf_pred = rf.predict(X_test)\n",
    "rf_pred_prob = rf.predict_proba(X_test)[:, 1]\n",
    "\n",
    "rf_report = quality_report(rf_pred, rf_pred_prob, y_test, 'Random Forest')\n",
    "rf_report"
   ]
  },
  {
   "cell_type": "markdown",
   "metadata": {},
   "source": [
    "Теперь попробуем подобрать более оптимальные параметры для нашей модели при помощи кросс-валидации. Запишем параметры, которые мы будем подбирать. Это максимальная глубина, количество деревьев, максимальное количество факторов, подаваемых на вход, число сэмплов в бутстреп выборке."
   ]
  },
  {
   "cell_type": "code",
   "execution_count": 185,
   "metadata": {},
   "outputs": [],
   "source": [
    "parameters_rf = {'max_depth' : np.array(range(2, 10)),\n",
    "                 'max_features' : [None, 'sqrt'],\n",
    "                 'max_samples' : [None, 3],\n",
    "                 'n_estimators' : [5, 10, 50, 100, 500]}"
   ]
  },
  {
   "cell_type": "markdown",
   "metadata": {},
   "source": [
    "В качестве максимизирующего признака будет использоваться Recall, так как мы хотим угадать больше клиентов, которые совершат просрочку."
   ]
  },
  {
   "cell_type": "code",
   "execution_count": 186,
   "metadata": {},
   "outputs": [
    {
     "name": "stdout",
     "output_type": "stream",
     "text": [
      "Wall time: 40min 25s\n"
     ]
    },
    {
     "data": {
      "text/plain": [
       "{'max_depth': 9, 'max_features': None, 'max_samples': None, 'n_estimators': 50}"
      ]
     },
     "execution_count": 186,
     "metadata": {},
     "output_type": "execute_result"
    }
   ],
   "source": [
    "%%time\n",
    "\n",
    "rf_gs = GridSearchCV(rf,  \n",
    "                  parameters_rf,\n",
    "                  scoring='recall',\n",
    "                  cv=5) \n",
    "\n",
    "rf_gs.fit(X_train, y_train)\n",
    "rf_gs.best_params_"
   ]
  },
  {
   "cell_type": "code",
   "execution_count": 187,
   "metadata": {},
   "outputs": [
    {
     "data": {
      "text/html": [
       "<div>\n",
       "<style scoped>\n",
       "    .dataframe tbody tr th:only-of-type {\n",
       "        vertical-align: middle;\n",
       "    }\n",
       "\n",
       "    .dataframe tbody tr th {\n",
       "        vertical-align: top;\n",
       "    }\n",
       "\n",
       "    .dataframe thead th {\n",
       "        text-align: right;\n",
       "    }\n",
       "</style>\n",
       "<table border=\"1\" class=\"dataframe\">\n",
       "  <thead>\n",
       "    <tr style=\"text-align: right;\">\n",
       "      <th></th>\n",
       "      <th>Accuracy</th>\n",
       "      <th>Precision</th>\n",
       "      <th>Recall</th>\n",
       "      <th>f1_score</th>\n",
       "      <th>ROC-AUC</th>\n",
       "      <th>Gini</th>\n",
       "    </tr>\n",
       "  </thead>\n",
       "  <tbody>\n",
       "    <tr>\n",
       "      <th>Random Forest - GridSearch</th>\n",
       "      <td>0.761</td>\n",
       "      <td>0.342</td>\n",
       "      <td>0.722</td>\n",
       "      <td>0.464</td>\n",
       "      <td>0.788</td>\n",
       "      <td>0.576</td>\n",
       "    </tr>\n",
       "  </tbody>\n",
       "</table>\n",
       "</div>"
      ],
      "text/plain": [
       "                            Accuracy  Precision  Recall  f1_score  ROC-AUC  \\\n",
       "Random Forest - GridSearch     0.761      0.342   0.722     0.464    0.788   \n",
       "\n",
       "                             Gini  \n",
       "Random Forest - GridSearch  0.576  "
      ]
     },
     "execution_count": 187,
     "metadata": {},
     "output_type": "execute_result"
    }
   ],
   "source": [
    "rf_gs_pred = rf_gs.predict(X_test)\n",
    "rf_gs_pred_prob = rf_gs.predict_proba(X_test)[:, 1]\n",
    "\n",
    "rf_gs_report = quality_report(rf_gs_pred, rf_gs_pred_prob, y_test, 'Random Forest - GridSearch')\n",
    "rf_gs_report"
   ]
  },
  {
   "cell_type": "markdown",
   "metadata": {},
   "source": [
    "### Построение градиетного бустинга.\n",
    "Приступим к построению модели градиетного бустинга"
   ]
  },
  {
   "cell_type": "code",
   "execution_count": 188,
   "metadata": {},
   "outputs": [
    {
     "data": {
      "text/html": [
       "<div>\n",
       "<style scoped>\n",
       "    .dataframe tbody tr th:only-of-type {\n",
       "        vertical-align: middle;\n",
       "    }\n",
       "\n",
       "    .dataframe tbody tr th {\n",
       "        vertical-align: top;\n",
       "    }\n",
       "\n",
       "    .dataframe thead th {\n",
       "        text-align: right;\n",
       "    }\n",
       "</style>\n",
       "<table border=\"1\" class=\"dataframe\">\n",
       "  <thead>\n",
       "    <tr style=\"text-align: right;\">\n",
       "      <th></th>\n",
       "      <th>Accuracy</th>\n",
       "      <th>Precision</th>\n",
       "      <th>Recall</th>\n",
       "      <th>f1_score</th>\n",
       "      <th>ROC-AUC</th>\n",
       "      <th>Gini</th>\n",
       "    </tr>\n",
       "  </thead>\n",
       "  <tbody>\n",
       "    <tr>\n",
       "      <th>LightGBM</th>\n",
       "      <td>0.784</td>\n",
       "      <td>0.464</td>\n",
       "      <td>0.726</td>\n",
       "      <td>0.566</td>\n",
       "      <td>0.821</td>\n",
       "      <td>0.642</td>\n",
       "    </tr>\n",
       "  </tbody>\n",
       "</table>\n",
       "</div>"
      ],
      "text/plain": [
       "          Accuracy  Precision  Recall  f1_score  ROC-AUC   Gini\n",
       "LightGBM     0.784      0.464   0.726     0.566    0.821  0.642"
      ]
     },
     "execution_count": 188,
     "metadata": {},
     "output_type": "execute_result"
    }
   ],
   "source": [
    "lgbm = LGBMClassifier(random_state=42, n_jobs=-1)\n",
    "lgbm.fit(X_train, y_train)\n",
    "lgbm_pred = lgbm.predict(X_test)\n",
    "lgbm_pred_prob = lgbm.predict_proba(X_test)[:, 1]\n",
    "\n",
    "lgbm_report = quality_report(lgbm_pred, lgbm_pred_prob, y_test, 'LightGBM')\n",
    "lgbm_report"
   ]
  },
  {
   "cell_type": "markdown",
   "metadata": {},
   "source": [
    "Теперь попробуем подобрать более оптимальные параметры для нашей модели при помощи кросс-валидации. Запишем параметры, которые мы будем подбирать. Это максимальная глубина, количество деревьев и скорость обучения."
   ]
  },
  {
   "cell_type": "code",
   "execution_count": 189,
   "metadata": {},
   "outputs": [],
   "source": [
    "parameters_gb = {'max_depth' : np.array(range(3, 10)),\n",
    "             'learning_rate' : [0.001, 0.01, 0.02, 0.03, 0.04, 0.1, 0.2, 0.3],\n",
    "             'n_estimators' : np.array(range(20, 120, 20))}"
   ]
  },
  {
   "cell_type": "markdown",
   "metadata": {},
   "source": [
    "В качестве максимизирующего признака будет использоваться Recall, так как мы хотим угадать больше клиентов, которые совершат просрочку."
   ]
  },
  {
   "cell_type": "code",
   "execution_count": 190,
   "metadata": {},
   "outputs": [
    {
     "name": "stdout",
     "output_type": "stream",
     "text": [
      "Wall time: 12min 48s\n"
     ]
    },
    {
     "data": {
      "text/plain": [
       "{'learning_rate': 0.3, 'max_depth': 8, 'n_estimators': 100}"
      ]
     },
     "execution_count": 190,
     "metadata": {},
     "output_type": "execute_result"
    }
   ],
   "source": [
    "%%time\n",
    "lgbm_gs = GridSearchCV(lgbm,  \n",
    "                  parameters_gb,\n",
    "                  scoring='recall',\n",
    "                  cv=5) \n",
    "\n",
    "lgbm_gs.fit(X_train, y_train)\n",
    "lgbm_gs.best_params_"
   ]
  },
  {
   "cell_type": "code",
   "execution_count": 191,
   "metadata": {},
   "outputs": [
    {
     "data": {
      "text/html": [
       "<div>\n",
       "<style scoped>\n",
       "    .dataframe tbody tr th:only-of-type {\n",
       "        vertical-align: middle;\n",
       "    }\n",
       "\n",
       "    .dataframe tbody tr th {\n",
       "        vertical-align: top;\n",
       "    }\n",
       "\n",
       "    .dataframe thead th {\n",
       "        text-align: right;\n",
       "    }\n",
       "</style>\n",
       "<table border=\"1\" class=\"dataframe\">\n",
       "  <thead>\n",
       "    <tr style=\"text-align: right;\">\n",
       "      <th></th>\n",
       "      <th>Accuracy</th>\n",
       "      <th>Precision</th>\n",
       "      <th>Recall</th>\n",
       "      <th>f1_score</th>\n",
       "      <th>ROC-AUC</th>\n",
       "      <th>Gini</th>\n",
       "    </tr>\n",
       "  </thead>\n",
       "  <tbody>\n",
       "    <tr>\n",
       "      <th>LightGBM - GridSearch</th>\n",
       "      <td>0.791</td>\n",
       "      <td>0.509</td>\n",
       "      <td>0.718</td>\n",
       "      <td>0.596</td>\n",
       "      <td>0.823</td>\n",
       "      <td>0.645</td>\n",
       "    </tr>\n",
       "  </tbody>\n",
       "</table>\n",
       "</div>"
      ],
      "text/plain": [
       "                       Accuracy  Precision  Recall  f1_score  ROC-AUC   Gini\n",
       "LightGBM - GridSearch     0.791      0.509   0.718     0.596    0.823  0.645"
      ]
     },
     "execution_count": 191,
     "metadata": {},
     "output_type": "execute_result"
    }
   ],
   "source": [
    "lgbm_gs_pred = lgbm_gs.predict(X_test)\n",
    "lgbm_gs_pred_prob = lgbm_gs.predict_proba(X_test)[:, 1]\n",
    "\n",
    "lgbm_gs_report = quality_report(lgbm_gs_pred, lgbm_gs_pred_prob, y_test, 'LightGBM - GridSearch')\n",
    "lgbm_gs_report"
   ]
  },
  {
   "cell_type": "markdown",
   "metadata": {},
   "source": [
    "## Сравнение моделей\n",
    "Сравним все варианты моделей"
   ]
  },
  {
   "cell_type": "code",
   "execution_count": 192,
   "metadata": {},
   "outputs": [
    {
     "data": {
      "text/html": [
       "<div>\n",
       "<style scoped>\n",
       "    .dataframe tbody tr th:only-of-type {\n",
       "        vertical-align: middle;\n",
       "    }\n",
       "\n",
       "    .dataframe tbody tr th {\n",
       "        vertical-align: top;\n",
       "    }\n",
       "\n",
       "    .dataframe thead th {\n",
       "        text-align: right;\n",
       "    }\n",
       "</style>\n",
       "<table border=\"1\" class=\"dataframe\">\n",
       "  <thead>\n",
       "    <tr style=\"text-align: right;\">\n",
       "      <th></th>\n",
       "      <th>Accuracy</th>\n",
       "      <th>Precision</th>\n",
       "      <th>Recall</th>\n",
       "      <th>f1_score</th>\n",
       "      <th>ROC-AUC</th>\n",
       "      <th>Gini</th>\n",
       "    </tr>\n",
       "  </thead>\n",
       "  <tbody>\n",
       "    <tr>\n",
       "      <th>Logistic Regression</th>\n",
       "      <td>0.749</td>\n",
       "      <td>0.351</td>\n",
       "      <td>0.664</td>\n",
       "      <td>0.459</td>\n",
       "      <td>0.768</td>\n",
       "      <td>0.535</td>\n",
       "    </tr>\n",
       "    <tr>\n",
       "      <th>Logistic Regression - GridSearch</th>\n",
       "      <td>0.750</td>\n",
       "      <td>0.356</td>\n",
       "      <td>0.663</td>\n",
       "      <td>0.463</td>\n",
       "      <td>0.768</td>\n",
       "      <td>0.536</td>\n",
       "    </tr>\n",
       "    <tr>\n",
       "      <th>Random Forest</th>\n",
       "      <td>0.755</td>\n",
       "      <td>0.324</td>\n",
       "      <td>0.711</td>\n",
       "      <td>0.445</td>\n",
       "      <td>0.773</td>\n",
       "      <td>0.547</td>\n",
       "    </tr>\n",
       "    <tr>\n",
       "      <th>Random Forest - GridSearch</th>\n",
       "      <td>0.761</td>\n",
       "      <td>0.342</td>\n",
       "      <td>0.722</td>\n",
       "      <td>0.464</td>\n",
       "      <td>0.788</td>\n",
       "      <td>0.576</td>\n",
       "    </tr>\n",
       "    <tr>\n",
       "      <th>LightGBM</th>\n",
       "      <td>0.784</td>\n",
       "      <td>0.464</td>\n",
       "      <td>0.726</td>\n",
       "      <td>0.566</td>\n",
       "      <td>0.821</td>\n",
       "      <td>0.642</td>\n",
       "    </tr>\n",
       "    <tr>\n",
       "      <th>LightGBM - GridSearch</th>\n",
       "      <td>0.791</td>\n",
       "      <td>0.509</td>\n",
       "      <td>0.718</td>\n",
       "      <td>0.596</td>\n",
       "      <td>0.823</td>\n",
       "      <td>0.645</td>\n",
       "    </tr>\n",
       "  </tbody>\n",
       "</table>\n",
       "</div>"
      ],
      "text/plain": [
       "                                  Accuracy  Precision  Recall  f1_score  \\\n",
       "Logistic Regression                  0.749      0.351   0.664     0.459   \n",
       "Logistic Regression - GridSearch     0.750      0.356   0.663     0.463   \n",
       "Random Forest                        0.755      0.324   0.711     0.445   \n",
       "Random Forest - GridSearch           0.761      0.342   0.722     0.464   \n",
       "LightGBM                             0.784      0.464   0.726     0.566   \n",
       "LightGBM - GridSearch                0.791      0.509   0.718     0.596   \n",
       "\n",
       "                                  ROC-AUC   Gini  \n",
       "Logistic Regression                 0.768  0.535  \n",
       "Logistic Regression - GridSearch    0.768  0.536  \n",
       "Random Forest                       0.773  0.547  \n",
       "Random Forest - GridSearch          0.788  0.576  \n",
       "LightGBM                            0.821  0.642  \n",
       "LightGBM - GridSearch               0.823  0.645  "
      ]
     },
     "execution_count": 192,
     "metadata": {},
     "output_type": "execute_result"
    }
   ],
   "source": [
    "models_report = pd.concat([lr_report, lr_gs_report, rf_report, rf_gs_report, lgbm_report, lgbm_gs_report])\n",
    "models_report"
   ]
  },
  {
   "cell_type": "markdown",
   "metadata": {},
   "source": [
    "Из таблицы видно, что лучший результат по всем метрикам показывает модель, построенная на с использованием градиетного бустинга после кросс-валидации. Также можем наблюдать, что за счет кросс-валидации мы улучшаеем все модели."
   ]
  },
  {
   "cell_type": "code",
   "execution_count": null,
   "metadata": {},
   "outputs": [],
   "source": []
  }
 ],
 "metadata": {
  "kernelspec": {
   "display_name": "Python 3",
   "language": "python",
   "name": "python3"
  },
  "language_info": {
   "codemirror_mode": {
    "name": "ipython",
    "version": 3
   },
   "file_extension": ".py",
   "mimetype": "text/x-python",
   "name": "python",
   "nbconvert_exporter": "python",
   "pygments_lexer": "ipython3",
   "version": "3.8.3"
  }
 },
 "nbformat": 4,
 "nbformat_minor": 4
}
