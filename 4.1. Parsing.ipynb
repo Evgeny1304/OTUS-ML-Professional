{
 "cells": [
  {
   "cell_type": "code",
   "execution_count": null,
   "metadata": {},
   "outputs": [],
   "source": [
    "# !pip install fake_useragent"
   ]
  },
  {
   "cell_type": "code",
   "execution_count": 130,
   "metadata": {},
   "outputs": [],
   "source": [
    "import pandas as pd\n",
    "import numpy as np\n",
    "import requests\n",
    "import time\n",
    "from bs4 import BeautifulSoup\n",
    "from fake_useragent import UserAgent\n",
    "from tqdm import tqdm_notebook"
   ]
  },
  {
   "cell_type": "markdown",
   "metadata": {},
   "source": [
    "## Описание задачи\n",
    "\n",
    "Парсинг сайта Rotten Tomatoes с целью сбора данных (рейтинг, название фильма, описание, жанр, год выпуска) по популярным фильмам в июне 2022 года.\n",
    "\n",
    "На данном сайте список фильмов подгружается динамически по страницам. Обратимся к первой странице со списком фильмов, и запишем запрос к данной странице."
   ]
  },
  {
   "cell_type": "code",
   "execution_count": 4,
   "metadata": {},
   "outputs": [],
   "source": [
    "page_link = 'https://www.rottentomatoes.com/browse/movies_at_home/sort:popular?page=1'"
   ]
  },
  {
   "cell_type": "code",
   "execution_count": 6,
   "metadata": {},
   "outputs": [
    {
     "name": "stderr",
     "output_type": "stream",
     "text": [
      "Error occurred during loading data. Trying to use cache server https://fake-useragent.herokuapp.com/browsers/0.1.11\n",
      "Traceback (most recent call last):\n",
      "  File \"C:\\ProgramData\\Anaconda3\\lib\\site-packages\\fake_useragent\\utils.py\", line 154, in load\n",
      "    for item in get_browsers(verify_ssl=verify_ssl):\n",
      "  File \"C:\\ProgramData\\Anaconda3\\lib\\site-packages\\fake_useragent\\utils.py\", line 99, in get_browsers\n",
      "    html = html.split('<table class=\"w3-table-all notranslate\">')[1]\n",
      "IndexError: list index out of range\n"
     ]
    },
    {
     "data": {
      "text/plain": [
       "<Response [200]>"
      ]
     },
     "execution_count": 6,
     "metadata": {},
     "output_type": "execute_result"
    }
   ],
   "source": [
    "response = requests.get(page_link, headers={'User-Agent': UserAgent().chrome})\n",
    "response"
   ]
  },
  {
   "cell_type": "code",
   "execution_count": 7,
   "metadata": {},
   "outputs": [],
   "source": [
    "html = response.content"
   ]
  },
  {
   "cell_type": "markdown",
   "metadata": {},
   "source": [
    "## Получение ссылок с фильмами\n",
    "\n",
    "С помощью библиотеки BeautifulSoup распарсим страницу и найдем ссылки к фильмам. \n",
    "Ссылки к фильмам находятся в теге div с классом discovery-grids-container."
   ]
  },
  {
   "cell_type": "code",
   "execution_count": 9,
   "metadata": {},
   "outputs": [],
   "source": [
    "soup = BeautifulSoup(html, 'html.parser')"
   ]
  },
  {
   "cell_type": "code",
   "execution_count": 27,
   "metadata": {},
   "outputs": [],
   "source": [
    "film_container = soup.find(lambda tag: tag.name == 'div' and tag.get('class') == ['discovery-grids-container'])"
   ]
  },
  {
   "cell_type": "code",
   "execution_count": 162,
   "metadata": {},
   "outputs": [
    {
     "data": {
      "text/plain": [
       "['/m/top_gun',\n",
       " '/m/fantastic_beasts_the_secrets_of_dumbledore',\n",
       " '/m/the_northman',\n",
       " '/m/what_is_a_woman',\n",
       " '/m/x_2022']"
      ]
     },
     "execution_count": 162,
     "metadata": {},
     "output_type": "execute_result"
    }
   ],
   "source": [
    "film_links = film_container.findAll(lambda tag: tag.name == 'a')\n",
    "film_links = [link.attrs['href'] for link in film_links]\n",
    "film_links[:5]"
   ]
  },
  {
   "cell_type": "markdown",
   "metadata": {},
   "source": [
    "Запишем функцию для преобразования полученных данных из атрибута href в нужные ссылки с фильмами"
   ]
  },
  {
   "cell_type": "code",
   "execution_count": 36,
   "metadata": {},
   "outputs": [],
   "source": [
    "def getPageLinks(page_number):\n",
    "\n",
    "    # составляем ссылку на страницу поиска\n",
    "    page_link = 'http://rottentomatoes.com/browse/movies_at_home/sort:popular?page={}'.format(page_number)\n",
    "    \n",
    "    # запрашиваем данные по ней\n",
    "    response = requests.get(page_link, headers={'User-Agent': UserAgent().chrome})\n",
    "    \n",
    "    if not response.ok:\n",
    "        # если сервер нам отказал, вернем пустой лист для текущей страницы\n",
    "        return [] \n",
    "    \n",
    "    # получаем содержимое страницы и переводим в суп\n",
    "    html = response.content\n",
    "    soup = BeautifulSoup(html,'html.parser')\n",
    "    \n",
    "    # наконец, ищем ссылки на фильмы\n",
    "    film_container = soup.find(lambda tag: tag.name == 'div' and tag.get('class') == ['discovery-grids-container'])\n",
    "    film_links = film_container.findAll(lambda tag: tag.name == 'a')\n",
    "    film_links = ['http://rottentomatoes.com' + link.attrs['href'] for link in film_links]\n",
    "    \n",
    "    return film_links"
   ]
  },
  {
   "cell_type": "markdown",
   "metadata": {},
   "source": [
    "## Получение информации о фильме\n",
    "Обратимся к странице с фильмом Top Gun и достанем следующую информацию:\n",
    "- Название фильма.\n",
    "- Рейтинг фильма.\n",
    "- Описание фильма.\n",
    "- Жанр фильма.\n",
    "- Год выпуска."
   ]
  },
  {
   "cell_type": "code",
   "execution_count": 45,
   "metadata": {},
   "outputs": [],
   "source": [
    "film_page = 'http://rottentomatoes.com/m/top_gun'\n",
    "response = requests.get(film_page, headers={'User-Agent': UserAgent().chrome})\n",
    "\n",
    "html = response.content\n",
    "soup = BeautifulSoup(html,'html.parser')"
   ]
  },
  {
   "cell_type": "markdown",
   "metadata": {},
   "source": [
    "Получим название фильма"
   ]
  },
  {
   "cell_type": "code",
   "execution_count": 59,
   "metadata": {},
   "outputs": [
    {
     "data": {
      "text/plain": [
       "'Top Gun'"
      ]
     },
     "execution_count": 59,
     "metadata": {},
     "output_type": "execute_result"
    }
   ],
   "source": [
    "film_title = soup.find(lambda tag: tag.name == 'h1' and tag.get('class') == ['scoreboard__title'])\n",
    "film_title = film_title.text\n",
    "film_title"
   ]
  },
  {
   "cell_type": "markdown",
   "metadata": {},
   "source": [
    "Рейтинги фильма хранятся в аттрибутах тега score-board. Посмотрим на структура данного тега."
   ]
  },
  {
   "cell_type": "code",
   "execution_count": 67,
   "metadata": {},
   "outputs": [
    {
     "data": {
      "text/plain": [
       "<score-board audiencescore=\"83\" audiencestate=\"upright\" class=\"scoreboard\" data-qa=\"score-panel\" rating=\"PG\" skeleton=\"panel\" tomatometerscore=\"57\" tomatometerstate=\"rotten\">\n",
       "<h1 class=\"scoreboard__title\" data-qa=\"score-panel-movie-title\" slot=\"title\">Top Gun</h1>\n",
       "<p class=\"scoreboard__info\" slot=\"info\">1986, Action/Adventure, 1h 49m</p>\n",
       "<a class=\"scoreboard__link scoreboard__link--tomatometer\" data-qa=\"tomatometer-review-count\" href=\"/m/top_gun/reviews?intcmp=rt-scorecard_tomatometer-reviews\" slot=\"critics-count\">74 Reviews</a>\n",
       "<a class=\"scoreboard__link scoreboard__link--audience\" data-qa=\"audience-rating-count\" href=\"/m/top_gun/reviews?type=user&amp;intcmp=rt-scorecard_audience-score-reviews\" slot=\"audience-count\">250,000+ Ratings</a>\n",
       "<div id=\"tomatometer_sponsorship_ad\" slot=\"sponsorship\"></div>\n",
       "</score-board>"
      ]
     },
     "execution_count": 67,
     "metadata": {},
     "output_type": "execute_result"
    }
   ],
   "source": [
    "scoreboard = soup.find(lambda tag: tag.name == 'score-board' and tag.get('class') == ['scoreboard'])\n",
    "scoreboard"
   ]
  },
  {
   "cell_type": "markdown",
   "metadata": {},
   "source": [
    "Запишем функцию для получения данных по рейтингу фильма."
   ]
  },
  {
   "cell_type": "code",
   "execution_count": 100,
   "metadata": {},
   "outputs": [],
   "source": [
    "def getRating(soup, rate):\n",
    "    try:\n",
    "        obj = soup.find('score-board', attrs={'class':'scoreboard'})\n",
    "        obj = obj.get(rate)\n",
    "    except:\n",
    "        obj=None\n",
    "    \n",
    "    return obj"
   ]
  },
  {
   "cell_type": "code",
   "execution_count": 101,
   "metadata": {},
   "outputs": [
    {
     "data": {
      "text/plain": [
       "'57'"
      ]
     },
     "execution_count": 101,
     "metadata": {},
     "output_type": "execute_result"
    }
   ],
   "source": [
    "getRating(soup, 'tomatometerscore')"
   ]
  },
  {
   "cell_type": "markdown",
   "metadata": {},
   "source": [
    "Получим описание к фильму."
   ]
  },
  {
   "cell_type": "code",
   "execution_count": 93,
   "metadata": {},
   "outputs": [
    {
     "data": {
      "text/plain": [
       "\"The Top Gun Naval Fighter Weapons School is where the best of the best train to refine their elite flying skills. When hotshot fighter pilot Maverick (Tom Cruise) is sent to the school, his reckless attitude and cocky demeanor put him at odds with the other pilots, especially the cool and collected Iceman (Val Kilmer). But Maverick isn't only competing to be the top fighter pilot, he's also fighting for the attention of his beautiful flight instructor, Charlotte Blackwood (Kelly McGillis).\""
      ]
     },
     "execution_count": 93,
     "metadata": {},
     "output_type": "execute_result"
    }
   ],
   "source": [
    "film_plot = soup.find(lambda tag: tag.name == 'div' and tag.get('id') == 'movieSynopsis').text\n",
    "film_plot = film_plot.replace('\\n', '')\n",
    "film_plot = film_plot.strip()\n",
    "film_plot"
   ]
  },
  {
   "cell_type": "markdown",
   "metadata": {},
   "source": [
    "Получение данных о жанре и годе выпуска."
   ]
  },
  {
   "cell_type": "code",
   "execution_count": 112,
   "metadata": {},
   "outputs": [
    {
     "data": {
      "text/plain": [
       "'Action, Adventure'"
      ]
     },
     "execution_count": 112,
     "metadata": {},
     "output_type": "execute_result"
    }
   ],
   "source": [
    "film_genre = soup.find(lambda tag: tag.name == 'div' and tag.get('class') == ['meta-value', 'genre']).text\n",
    "film_genre = film_genre.replace('\\n', '')\n",
    "film_genre = film_genre.replace(' ', '')\n",
    "film_genre = film_genre.replace(',', ', ')\n",
    "film_genre"
   ]
  },
  {
   "cell_type": "code",
   "execution_count": 124,
   "metadata": {},
   "outputs": [
    {
     "data": {
      "text/plain": [
       "1986"
      ]
     },
     "execution_count": 124,
     "metadata": {},
     "output_type": "execute_result"
    }
   ],
   "source": [
    "film_year = soup.find(lambda tag: tag.name == 'time').text\n",
    "film_year = time.strptime(film_year, '%b %d, %Y').tm_year\n",
    "film_year"
   ]
  },
  {
   "cell_type": "markdown",
   "metadata": {},
   "source": [
    "Запишем итоговую функцию для сбора данных по фильму."
   ]
  },
  {
   "cell_type": "code",
   "execution_count": 128,
   "metadata": {},
   "outputs": [],
   "source": [
    "def getFilmData(film_page):\n",
    "    film_data = pd.DataFrame(columns=['Title', 'Genre', 'Year', 'Description', 'Tomato Score', 'Tomato Rate', 'Audience Score', 'Audience Rate'], index=[0])\n",
    "    \n",
    "    response = requests.get(film_page, headers={'User-Agent': UserAgent().chrome})\n",
    "    \n",
    "    if not response.ok:\n",
    "        # если сервер нам отказал, вернем статус ошибки \n",
    "        return response.status_code\n",
    "    \n",
    "    # получаем содержимое страницы и переводим в суп\n",
    "    html = response.content\n",
    "    soup = BeautifulSoup(html,'html.parser')\n",
    "    \n",
    "    film_title = soup.find(lambda tag: tag.name == 'h1' and tag.get('class') == ['scoreboard__title']).text\n",
    "    film_data['Title'] = film_title\n",
    "    \n",
    "    film_plot = soup.find(lambda tag: tag.name == 'div' and tag.get('id') == 'movieSynopsis').text\n",
    "    film_plot = film_plot.replace('\\n', '')\n",
    "    film_plot = film_plot.strip()\n",
    "    film_data['Description'] = film_plot\n",
    "    \n",
    "    film_genre = soup.find(lambda tag: tag.name == 'div' and tag.get('class') == ['meta-value', 'genre']).text\n",
    "    film_genre = film_genre.replace('\\n', '')\n",
    "    film_genre = film_genre.replace(' ', '')\n",
    "    film_genre = film_genre.replace(',', ', ')\n",
    "    film_data['Genre'] = film_genre\n",
    "    \n",
    "    film_year = soup.find(lambda tag: tag.name == 'time').text\n",
    "    film_year = time.strptime(film_year, '%b %d, %Y').tm_year\n",
    "    film_data['Year'] = film_year\n",
    "    \n",
    "    film_data['Tomato Score'] = getRating(soup=soup, rate='tomatometerscore')\n",
    "    film_data['Tomato Rate'] = getRating(soup=soup, rate='tomatometerstate')\n",
    "    film_data['Audience Score'] = getRating(soup=soup, rate='audiencescore')\n",
    "    film_data['Audience Rate'] = getRating(soup=soup, rate='audiencestate')\n",
    "    \n",
    "    return film_data"
   ]
  },
  {
   "cell_type": "code",
   "execution_count": 129,
   "metadata": {},
   "outputs": [
    {
     "data": {
      "text/html": [
       "<div>\n",
       "<style scoped>\n",
       "    .dataframe tbody tr th:only-of-type {\n",
       "        vertical-align: middle;\n",
       "    }\n",
       "\n",
       "    .dataframe tbody tr th {\n",
       "        vertical-align: top;\n",
       "    }\n",
       "\n",
       "    .dataframe thead th {\n",
       "        text-align: right;\n",
       "    }\n",
       "</style>\n",
       "<table border=\"1\" class=\"dataframe\">\n",
       "  <thead>\n",
       "    <tr style=\"text-align: right;\">\n",
       "      <th></th>\n",
       "      <th>Title</th>\n",
       "      <th>Genre</th>\n",
       "      <th>Year</th>\n",
       "      <th>Description</th>\n",
       "      <th>Tomato Score</th>\n",
       "      <th>Tomato Rate</th>\n",
       "      <th>Audience Score</th>\n",
       "      <th>Audience Rate</th>\n",
       "    </tr>\n",
       "  </thead>\n",
       "  <tbody>\n",
       "    <tr>\n",
       "      <th>0</th>\n",
       "      <td>Top Gun</td>\n",
       "      <td>Action, Adventure</td>\n",
       "      <td>1986</td>\n",
       "      <td>The Top Gun Naval Fighter Weapons School is wh...</td>\n",
       "      <td>57</td>\n",
       "      <td>rotten</td>\n",
       "      <td>83</td>\n",
       "      <td>upright</td>\n",
       "    </tr>\n",
       "  </tbody>\n",
       "</table>\n",
       "</div>"
      ],
      "text/plain": [
       "     Title              Genre  Year  \\\n",
       "0  Top Gun  Action, Adventure  1986   \n",
       "\n",
       "                                         Description Tomato Score Tomato Rate  \\\n",
       "0  The Top Gun Naval Fighter Weapons School is wh...           57      rotten   \n",
       "\n",
       "  Audience Score Audience Rate  \n",
       "0             83       upright  "
      ]
     },
     "execution_count": 129,
     "metadata": {},
     "output_type": "execute_result"
    }
   ],
   "source": [
    "getFilmData('http://rottentomatoes.com/m/top_gun')"
   ]
  },
  {
   "cell_type": "markdown",
   "metadata": {},
   "source": [
    "## Получение информации по всем фильмам\n",
    "Соберем информацию по всем фильмам. Для начала создадим пустой датафрейм, в который мы будем добавлять информацию по каждому фильму."
   ]
  },
  {
   "cell_type": "code",
   "execution_count": 151,
   "metadata": {},
   "outputs": [],
   "source": [
    "final_df = pd.DataFrame(columns=['Title', 'Genre', 'Year', 'Description', 'Tomato Score', 'Tomato Rate', 'Audience Score', 'Audience Rate'])"
   ]
  },
  {
   "cell_type": "code",
   "execution_count": 152,
   "metadata": {},
   "outputs": [],
   "source": [
    "film_links = getPageLinks(1000)"
   ]
  },
  {
   "cell_type": "markdown",
   "metadata": {},
   "source": [
    "Запишем цикл для сбора информации по всем фильмам."
   ]
  },
  {
   "cell_type": "code",
   "execution_count": 159,
   "metadata": {},
   "outputs": [
    {
     "name": "stderr",
     "output_type": "stream",
     "text": [
      "<ipython-input-159-7327607d5902>:1: TqdmDeprecationWarning: This function will be removed in tqdm==5.0.0\n",
      "Please use `tqdm.notebook.tqdm` instead of `tqdm.tqdm_notebook`\n",
      "  for film_link in tqdm_notebook(film_links):\n"
     ]
    },
    {
     "data": {
      "application/vnd.jupyter.widget-view+json": {
       "model_id": "a0a8f4ff82d14a27b13b3385ddab9b72",
       "version_major": 2,
       "version_minor": 0
      },
      "text/plain": [
       "HBox(children=(FloatProgress(value=0.0, max=150.0), HTML(value='')))"
      ]
     },
     "metadata": {},
     "output_type": "display_data"
    },
    {
     "name": "stdout",
     "output_type": "stream",
     "text": [
      "\n"
     ]
    }
   ],
   "source": [
    "for film_link in tqdm_notebook(film_links):\n",
    "    try: \n",
    "        film_data = getFilmData(film_link)\n",
    "        final_df = pd.concat((final_df, film_data), axis=0)\n",
    "        time.sleep(0.3)\n",
    "    except:\n",
    "        continue"
   ]
  },
  {
   "cell_type": "code",
   "execution_count": 161,
   "metadata": {},
   "outputs": [
    {
     "data": {
      "text/html": [
       "<div>\n",
       "<style scoped>\n",
       "    .dataframe tbody tr th:only-of-type {\n",
       "        vertical-align: middle;\n",
       "    }\n",
       "\n",
       "    .dataframe tbody tr th {\n",
       "        vertical-align: top;\n",
       "    }\n",
       "\n",
       "    .dataframe thead th {\n",
       "        text-align: right;\n",
       "    }\n",
       "</style>\n",
       "<table border=\"1\" class=\"dataframe\">\n",
       "  <thead>\n",
       "    <tr style=\"text-align: right;\">\n",
       "      <th></th>\n",
       "      <th>Title</th>\n",
       "      <th>Genre</th>\n",
       "      <th>Year</th>\n",
       "      <th>Description</th>\n",
       "      <th>Tomato Score</th>\n",
       "      <th>Tomato Rate</th>\n",
       "      <th>Audience Score</th>\n",
       "      <th>Audience Rate</th>\n",
       "    </tr>\n",
       "  </thead>\n",
       "  <tbody>\n",
       "    <tr>\n",
       "      <th>0</th>\n",
       "      <td>Top Gun</td>\n",
       "      <td>Action, Adventure</td>\n",
       "      <td>1986</td>\n",
       "      <td>The Top Gun Naval Fighter Weapons School is wh...</td>\n",
       "      <td>57</td>\n",
       "      <td>rotten</td>\n",
       "      <td>83</td>\n",
       "      <td>upright</td>\n",
       "    </tr>\n",
       "    <tr>\n",
       "      <th>0</th>\n",
       "      <td>Fantastic Beasts: The Secrets of Dumbledore</td>\n",
       "      <td>Adventure, Fantasy</td>\n",
       "      <td>2022</td>\n",
       "      <td>Professor Albus Dumbledore (Jude Law) knows th...</td>\n",
       "      <td>47</td>\n",
       "      <td>rotten</td>\n",
       "      <td>83</td>\n",
       "      <td>upright</td>\n",
       "    </tr>\n",
       "    <tr>\n",
       "      <th>0</th>\n",
       "      <td>The Northman</td>\n",
       "      <td>Action, Adventure, Mystery&amp;thriller</td>\n",
       "      <td>2022</td>\n",
       "      <td>Prince Amleth is on the verge of becoming a ma...</td>\n",
       "      <td>89</td>\n",
       "      <td>certified-fresh</td>\n",
       "      <td>64</td>\n",
       "      <td>upright</td>\n",
       "    </tr>\n",
       "    <tr>\n",
       "      <th>0</th>\n",
       "      <td>X</td>\n",
       "      <td>Horror, Mystery&amp;thriller</td>\n",
       "      <td>2022</td>\n",
       "      <td>A group of actors sets out to make an adult fi...</td>\n",
       "      <td>95</td>\n",
       "      <td>certified-fresh</td>\n",
       "      <td>75</td>\n",
       "      <td>upright</td>\n",
       "    </tr>\n",
       "    <tr>\n",
       "      <th>0</th>\n",
       "      <td>Emergency</td>\n",
       "      <td>Comedy, Drama</td>\n",
       "      <td>2022</td>\n",
       "      <td>Kunle (Donald Elise Watkins) and his best frie...</td>\n",
       "      <td>93</td>\n",
       "      <td>certified-fresh</td>\n",
       "      <td>73</td>\n",
       "      <td>upright</td>\n",
       "    </tr>\n",
       "  </tbody>\n",
       "</table>\n",
       "</div>"
      ],
      "text/plain": [
       "                                         Title  \\\n",
       "0                                      Top Gun   \n",
       "0  Fantastic Beasts: The Secrets of Dumbledore   \n",
       "0                                 The Northman   \n",
       "0                                            X   \n",
       "0                                    Emergency   \n",
       "\n",
       "                                 Genre  Year  \\\n",
       "0                    Action, Adventure  1986   \n",
       "0                   Adventure, Fantasy  2022   \n",
       "0  Action, Adventure, Mystery&thriller  2022   \n",
       "0             Horror, Mystery&thriller  2022   \n",
       "0                        Comedy, Drama  2022   \n",
       "\n",
       "                                         Description Tomato Score  \\\n",
       "0  The Top Gun Naval Fighter Weapons School is wh...           57   \n",
       "0  Professor Albus Dumbledore (Jude Law) knows th...           47   \n",
       "0  Prince Amleth is on the verge of becoming a ma...           89   \n",
       "0  A group of actors sets out to make an adult fi...           95   \n",
       "0  Kunle (Donald Elise Watkins) and his best frie...           93   \n",
       "\n",
       "       Tomato Rate Audience Score Audience Rate  \n",
       "0           rotten             83       upright  \n",
       "0           rotten             83       upright  \n",
       "0  certified-fresh             64       upright  \n",
       "0  certified-fresh             75       upright  \n",
       "0  certified-fresh             73       upright  "
      ]
     },
     "execution_count": 161,
     "metadata": {},
     "output_type": "execute_result"
    }
   ],
   "source": [
    "final_df.head()"
   ]
  },
  {
   "cell_type": "code",
   "execution_count": null,
   "metadata": {},
   "outputs": [],
   "source": []
  },
  {
   "cell_type": "code",
   "execution_count": null,
   "metadata": {},
   "outputs": [],
   "source": []
  }
 ],
 "metadata": {
  "kernelspec": {
   "display_name": "Python 3",
   "language": "python",
   "name": "python3"
  },
  "language_info": {
   "codemirror_mode": {
    "name": "ipython",
    "version": 3
   },
   "file_extension": ".py",
   "mimetype": "text/x-python",
   "name": "python",
   "nbconvert_exporter": "python",
   "pygments_lexer": "ipython3",
   "version": "3.8.3"
  }
 },
 "nbformat": 4,
 "nbformat_minor": 4
}
