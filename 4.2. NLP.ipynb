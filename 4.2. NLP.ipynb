{
 "cells": [
  {
   "cell_type": "code",
   "execution_count": 1,
   "metadata": {},
   "outputs": [],
   "source": [
    "import matplotlib.pyplot as plt\n",
    "import matplotlib.ticker as ticker\n",
    "import numpy as np\n",
    "import pandas as pd\n",
    "import seaborn as sns\n",
    "from sklearn.model_selection import train_test_split\n",
    "from sklearn.metrics import roc_auc_score, accuracy_score, precision_score, recall_score, f1_score\n",
    "from sklearn.model_selection import GridSearchCV\n",
    "from sklearn.feature_extraction.text import TfidfVectorizer\n",
    "from sklearn.linear_model import LogisticRegression\n",
    "import string\n",
    "import nltk\n",
    "from nltk.stem.snowball import SnowballStemmer\n",
    "from tqdm import tqdm_notebook\n",
    "\n",
    "import warnings\n",
    "warnings.filterwarnings(\"ignore\")\n",
    "\n",
    "np.random.seed(10)"
   ]
  },
  {
   "cell_type": "markdown",
   "metadata": {},
   "source": [
    "# Описание задачи\n",
    "\n",
    "Анализ текста на основе отзывов с сайта IMDB.\n",
    "\n",
    "Загрузим датасет и ознакомимся с ним. Исходный датасет взят с сайта Kaggle: https://www.kaggle.com/datasets/lakshmi25npathi/imdb-dataset-of-50k-movie-reviews"
   ]
  },
  {
   "cell_type": "code",
   "execution_count": 2,
   "metadata": {},
   "outputs": [
    {
     "data": {
      "text/html": [
       "<div>\n",
       "<style scoped>\n",
       "    .dataframe tbody tr th:only-of-type {\n",
       "        vertical-align: middle;\n",
       "    }\n",
       "\n",
       "    .dataframe tbody tr th {\n",
       "        vertical-align: top;\n",
       "    }\n",
       "\n",
       "    .dataframe thead th {\n",
       "        text-align: right;\n",
       "    }\n",
       "</style>\n",
       "<table border=\"1\" class=\"dataframe\">\n",
       "  <thead>\n",
       "    <tr style=\"text-align: right;\">\n",
       "      <th></th>\n",
       "      <th>review</th>\n",
       "      <th>sentiment</th>\n",
       "    </tr>\n",
       "  </thead>\n",
       "  <tbody>\n",
       "    <tr>\n",
       "      <th>0</th>\n",
       "      <td>One of the other reviewers has mentioned that ...</td>\n",
       "      <td>positive</td>\n",
       "    </tr>\n",
       "    <tr>\n",
       "      <th>1</th>\n",
       "      <td>A wonderful little production. &lt;br /&gt;&lt;br /&gt;The...</td>\n",
       "      <td>positive</td>\n",
       "    </tr>\n",
       "    <tr>\n",
       "      <th>2</th>\n",
       "      <td>I thought this was a wonderful way to spend ti...</td>\n",
       "      <td>positive</td>\n",
       "    </tr>\n",
       "    <tr>\n",
       "      <th>3</th>\n",
       "      <td>Basically there's a family where a little boy ...</td>\n",
       "      <td>negative</td>\n",
       "    </tr>\n",
       "    <tr>\n",
       "      <th>4</th>\n",
       "      <td>Petter Mattei's \"Love in the Time of Money\" is...</td>\n",
       "      <td>positive</td>\n",
       "    </tr>\n",
       "  </tbody>\n",
       "</table>\n",
       "</div>"
      ],
      "text/plain": [
       "                                              review sentiment\n",
       "0  One of the other reviewers has mentioned that ...  positive\n",
       "1  A wonderful little production. <br /><br />The...  positive\n",
       "2  I thought this was a wonderful way to spend ti...  positive\n",
       "3  Basically there's a family where a little boy ...  negative\n",
       "4  Petter Mattei's \"Love in the Time of Money\" is...  positive"
      ]
     },
     "execution_count": 2,
     "metadata": {},
     "output_type": "execute_result"
    }
   ],
   "source": [
    "data = pd.read_csv('IMDB Dataset.csv', sep = ',', decimal = '.', encoding = 'utf-8')\n",
    "data.head()"
   ]
  },
  {
   "cell_type": "markdown",
   "metadata": {},
   "source": [
    "# Описание столбцов\n",
    "\n",
    "- review - Отзыв пользователя.\n",
    "- sentiment - Тип отзыва.\n",
    "\n",
    "Посмотрим какие значения принимает тип отзыва"
   ]
  },
  {
   "cell_type": "code",
   "execution_count": 3,
   "metadata": {},
   "outputs": [
    {
     "data": {
      "text/plain": [
       "positive    25000\n",
       "negative    25000\n",
       "Name: sentiment, dtype: int64"
      ]
     },
     "execution_count": 3,
     "metadata": {},
     "output_type": "execute_result"
    }
   ],
   "source": [
    "data['sentiment'].value_counts()"
   ]
  },
  {
   "cell_type": "markdown",
   "metadata": {},
   "source": [
    "Как мы видим, половина отзывов у нас размечены как позитивные, остальная часть как негативные. Рассмотрим первый отзыв в наших данных и выведем его тип"
   ]
  },
  {
   "cell_type": "code",
   "execution_count": 4,
   "metadata": {},
   "outputs": [
    {
     "name": "stdout",
     "output_type": "stream",
     "text": [
      "One of the other reviewers has mentioned that after watching just 1 Oz episode you'll be hooked. They are right, as this is exactly what happened with me.<br /><br />The first thing that struck me about Oz was its brutality and unflinching scenes of violence, which set in right from the word GO. Trust me, this is not a show for the faint hearted or timid. This show pulls no punches with regards to drugs, sex or violence. Its is hardcore, in the classic use of the word.<br /><br />It is called OZ as that is the nickname given to the Oswald Maximum Security State Penitentary. It focuses mainly on Emerald City, an experimental section of the prison where all the cells have glass fronts and face inwards, so privacy is not high on the agenda. Em City is home to many..Aryans, Muslims, gangstas, Latinos, Christians, Italians, Irish and more....so scuffles, death stares, dodgy dealings and shady agreements are never far away.<br /><br />I would say the main appeal of the show is due to the fact that it goes where other shows wouldn't dare. Forget pretty pictures painted for mainstream audiences, forget charm, forget romance...OZ doesn't mess around. The first episode I ever saw struck me as so nasty it was surreal, I couldn't say I was ready for it, but as I watched more, I developed a taste for Oz, and got accustomed to the high levels of graphic violence. Not just violence, but injustice (crooked guards who'll be sold out for a nickel, inmates who'll kill on order and get away with it, well mannered, middle class inmates being turned into prison bitches due to their lack of street skills or prison experience) Watching Oz, you may become comfortable with what is uncomfortable viewing....thats if you can get in touch with your darker side.\n",
      "\n",
      "sentiment =  positive\n"
     ]
    }
   ],
   "source": [
    "print(data.loc[0, 'review'])\n",
    "print('\\nsentiment = ', data.loc[0, 'sentiment'])"
   ]
  },
  {
   "cell_type": "markdown",
   "metadata": {},
   "source": [
    "Из самого отзыва и его разметки мы видим, что он является положительным.\n",
    "Теперь заменим символ \"br\" на обычный пробел."
   ]
  },
  {
   "cell_type": "code",
   "execution_count": 5,
   "metadata": {},
   "outputs": [
    {
     "data": {
      "text/html": [
       "<div>\n",
       "<style scoped>\n",
       "    .dataframe tbody tr th:only-of-type {\n",
       "        vertical-align: middle;\n",
       "    }\n",
       "\n",
       "    .dataframe tbody tr th {\n",
       "        vertical-align: top;\n",
       "    }\n",
       "\n",
       "    .dataframe thead th {\n",
       "        text-align: right;\n",
       "    }\n",
       "</style>\n",
       "<table border=\"1\" class=\"dataframe\">\n",
       "  <thead>\n",
       "    <tr style=\"text-align: right;\">\n",
       "      <th></th>\n",
       "      <th>review</th>\n",
       "      <th>sentiment</th>\n",
       "    </tr>\n",
       "  </thead>\n",
       "  <tbody>\n",
       "    <tr>\n",
       "      <th>0</th>\n",
       "      <td>One of the other reviewers has mentioned that ...</td>\n",
       "      <td>positive</td>\n",
       "    </tr>\n",
       "    <tr>\n",
       "      <th>1</th>\n",
       "      <td>A wonderful little production.   The filming t...</td>\n",
       "      <td>positive</td>\n",
       "    </tr>\n",
       "    <tr>\n",
       "      <th>2</th>\n",
       "      <td>I thought this was a wonderful way to spend ti...</td>\n",
       "      <td>positive</td>\n",
       "    </tr>\n",
       "    <tr>\n",
       "      <th>3</th>\n",
       "      <td>Basically there's a family where a little boy ...</td>\n",
       "      <td>negative</td>\n",
       "    </tr>\n",
       "    <tr>\n",
       "      <th>4</th>\n",
       "      <td>Petter Mattei's \"Love in the Time of Money\" is...</td>\n",
       "      <td>positive</td>\n",
       "    </tr>\n",
       "  </tbody>\n",
       "</table>\n",
       "</div>"
      ],
      "text/plain": [
       "                                              review sentiment\n",
       "0  One of the other reviewers has mentioned that ...  positive\n",
       "1  A wonderful little production.   The filming t...  positive\n",
       "2  I thought this was a wonderful way to spend ti...  positive\n",
       "3  Basically there's a family where a little boy ...  negative\n",
       "4  Petter Mattei's \"Love in the Time of Money\" is...  positive"
      ]
     },
     "execution_count": 5,
     "metadata": {},
     "output_type": "execute_result"
    }
   ],
   "source": [
    "data['review'] = data['review'].str.replace('<br />', ' ')\n",
    "data.head()"
   ]
  },
  {
   "cell_type": "markdown",
   "metadata": {},
   "source": [
    "# Обработка текста\n",
    "Обработаем текст наших отзывов:\n",
    "- исключим стоп-слова.\n",
    "- уберем знаки препинания.\n",
    "- применим леммитизацию."
   ]
  },
  {
   "cell_type": "code",
   "execution_count": 6,
   "metadata": {},
   "outputs": [
    {
     "name": "stderr",
     "output_type": "stream",
     "text": [
      "[nltk_data] Downloading package stopwords to\n",
      "[nltk_data]     C:\\Users\\Евгений\\AppData\\Roaming\\nltk_data...\n",
      "[nltk_data]   Package stopwords is already up-to-date!\n"
     ]
    },
    {
     "data": {
      "text/plain": [
       "['i', 'me', 'my', 'myself', 'we', 'our', 'ours', 'ourselves', 'you', \"you're\"]"
      ]
     },
     "execution_count": 6,
     "metadata": {},
     "output_type": "execute_result"
    }
   ],
   "source": [
    "nltk.download('stopwords')\n",
    "stop_words = nltk.corpus.stopwords.words('english')\n",
    "\n",
    "# примеры стоп-слов\n",
    "stop_words[:10]"
   ]
  },
  {
   "cell_type": "code",
   "execution_count": 7,
   "metadata": {},
   "outputs": [],
   "source": [
    "word_tokenizer = nltk.WordPunctTokenizer()"
   ]
  },
  {
   "cell_type": "code",
   "execution_count": 8,
   "metadata": {},
   "outputs": [],
   "source": [
    "dates = [str(x) for x in np.arange(1900, 2022)]\n",
    "def process_data(data):\n",
    "    texts = []\n",
    "    targets = []\n",
    "    \n",
    "    for i in range(len(data)):\n",
    "               \n",
    "        text_lower = data.loc[i, 'review'].lower() # приводим все слова к нижнему регистру\n",
    "        tokens     = word_tokenizer.tokenize(text_lower) #разбиваем екст на слова\n",
    "        \n",
    "        # удаляем пунктуацию и стоп-слова\n",
    "        tokens = [word for word in tokens if (word not in string.punctuation and word not in stop_words and word not in dates)]\n",
    "        \n",
    "        texts.append(tokens) # добавляем в предобработанный список\n",
    "    \n",
    "    return texts"
   ]
  },
  {
   "cell_type": "code",
   "execution_count": 9,
   "metadata": {},
   "outputs": [],
   "source": [
    "y = data['sentiment'].values\n",
    "texts = process_data(data)"
   ]
  },
  {
   "cell_type": "code",
   "execution_count": 10,
   "metadata": {},
   "outputs": [
    {
     "name": "stdout",
     "output_type": "stream",
     "text": [
      "Label:  positive\n",
      "Tokens:  ['one', 'reviewers', 'mentioned', 'watching', '1']\n"
     ]
    }
   ],
   "source": [
    "# Пример обработанного первого отзыва\n",
    "i = 0\n",
    "print(\"Label: \", y[i])\n",
    "print(\"Tokens: \", texts[i][:5])"
   ]
  },
  {
   "cell_type": "code",
   "execution_count": 11,
   "metadata": {},
   "outputs": [],
   "source": [
    "# инициализируем стеммер\n",
    "stemmer = SnowballStemmer('english')"
   ]
  },
  {
   "cell_type": "code",
   "execution_count": 12,
   "metadata": {},
   "outputs": [
    {
     "data": {
      "application/vnd.jupyter.widget-view+json": {
       "model_id": "dcb3dce4259a49c385060b91c9e25527",
       "version_major": 2,
       "version_minor": 0
      },
      "text/plain": [
       "HBox(children=(FloatProgress(value=0.0, max=50000.0), HTML(value='')))"
      ]
     },
     "metadata": {},
     "output_type": "display_data"
    },
    {
     "name": "stdout",
     "output_type": "stream",
     "text": [
      "\n"
     ]
    }
   ],
   "source": [
    "# применяем лемматизацию ко всем текстам\n",
    "for i in tqdm_notebook(range(len(texts))):\n",
    "    text_lemmatized = [stemmer.stem(x) for x in texts[i]] # применяем лемматизацию для каждого слова в тексте\n",
    "    texts[i] = ' '.join(text_lemmatized)                # объединяем все слова в одну строку через пробел"
   ]
  },
  {
   "cell_type": "code",
   "execution_count": 13,
   "metadata": {},
   "outputs": [
    {
     "name": "stdout",
     "output_type": "stream",
     "text": [
      "Label:  positive\n",
      "Text: \n",
      " one review mention watch 1 oz episod hook right exact happen first thing struck oz brutal unflinch scene violenc set right word go trust show faint heart timid show pull punch regard drug sex violenc hardcor classic use word call oz nicknam given oswald maximum secur state penitentari focus main emerald citi experiment section prison cell glass front face inward privaci high agenda em citi home mani .. aryan muslim gangsta latino christian italian irish .... scuffl death stare dodgi deal shadi agreement never far away would say main appeal show due fact goe show dare forget pretti pictur paint mainstream audienc forget charm forget romanc ... oz mess around first episod ever saw struck nasti surreal say readi watch develop tast oz got accustom high level graphic violenc violenc injustic crook guard sold nickel inmat kill order get away well manner middl class inmat turn prison bitch due lack street skill prison experi watch oz may becom comfort uncomfort view .... that get touch darker side\n"
     ]
    }
   ],
   "source": [
    "i = 0\n",
    "print(\"Label: \",   y[i])\n",
    "print(\"Text: \\n\",  texts[i])"
   ]
  },
  {
   "cell_type": "markdown",
   "metadata": {},
   "source": [
    "# Преобразование текста в вектора на основе TFiDF и построение модели\n",
    "Для начала разобьем наш датасет на train и test выборки."
   ]
  },
  {
   "cell_type": "code",
   "execution_count": 14,
   "metadata": {},
   "outputs": [],
   "source": [
    "def label2num(y):\n",
    "    if y == 'positive':\n",
    "        return 1\n",
    "    if y == 'negative':\n",
    "        return 0\n",
    "\n",
    "encoded_y = [label2num(yy) for yy in y]"
   ]
  },
  {
   "cell_type": "code",
   "execution_count": 15,
   "metadata": {},
   "outputs": [],
   "source": [
    "train_texts, test_texts, train_y, test_y = train_test_split(texts, encoded_y, test_size=0.2, random_state=42, stratify = y)"
   ]
  },
  {
   "cell_type": "markdown",
   "metadata": {},
   "source": [
    "Запишем функцию для сбора основных метрик по построенным моделям"
   ]
  },
  {
   "cell_type": "code",
   "execution_count": 17,
   "metadata": {},
   "outputs": [],
   "source": [
    "def quality_report(prediction, prediction_prob, actual, model):\n",
    "    quality_data = pd.DataFrame(columns=['Accuracy', 'Precision', 'Recall', 'f1_score', 'ROC-AUC'], index=[model])\n",
    "    \n",
    "    quality_data['Accuracy'] = round(accuracy_score(prediction, actual), 3)\n",
    "    quality_data['Precision'] = round(precision_score(prediction, actual), 3)\n",
    "    quality_data['Recall'] = round(recall_score(prediction, actual), 3)\n",
    "    quality_data['f1_score'] = round(f1_score(prediction, actual), 3)\n",
    "    quality_data['ROC-AUC'] = round(roc_auc_score(actual, prediction_prob), 3)\n",
    "    \n",
    "    return quality_data"
   ]
  },
  {
   "cell_type": "markdown",
   "metadata": {},
   "source": [
    "Зададим параметры регуляризации логистической регрессии, которые будем подбирать с помощью GridSearch."
   ]
  },
  {
   "cell_type": "code",
   "execution_count": 18,
   "metadata": {},
   "outputs": [],
   "source": [
    "parameters = {'C' : [0.0001, 0.001, 0.01, 0.1, 1, 10, 100],\n",
    "             'penalty':['none', 'elasticnet', 'l1', 'l2']}"
   ]
  },
  {
   "cell_type": "markdown",
   "metadata": {},
   "source": [
    "Зададим список для перебора параметра max_features в векторайзере. Т.е. сколько наиболее встречающихся слов мы будем учитывать при построении векторов."
   ]
  },
  {
   "cell_type": "code",
   "execution_count": 19,
   "metadata": {},
   "outputs": [],
   "source": [
    "max_features_list = [100, 200, 300, 500, 1000, 5000, 10000, 20000]"
   ]
  },
  {
   "cell_type": "markdown",
   "metadata": {},
   "source": [
    "Запишем цикл с перебором параметра max_features, построением векторайзера, построения логистической регрессии и сбора метрик по модели."
   ]
  },
  {
   "cell_type": "code",
   "execution_count": 21,
   "metadata": {},
   "outputs": [
    {
     "data": {
      "application/vnd.jupyter.widget-view+json": {
       "model_id": "78f09d3c7d26415daba1a7500f94844c",
       "version_major": 2,
       "version_minor": 0
      },
      "text/plain": [
       "HBox(children=(FloatProgress(value=0.0, max=8.0), HTML(value='')))"
      ]
     },
     "metadata": {},
     "output_type": "display_data"
    },
    {
     "name": "stdout",
     "output_type": "stream",
     "text": [
      "\n"
     ]
    }
   ],
   "source": [
    "report_final = pd.DataFrame(columns=['Accuracy', 'Precision', 'Recall', 'f1_score', 'ROC-AUC'])\n",
    "params_final = pd.DataFrame(columns=['C', 'penalty'])\n",
    "\n",
    "for i in tqdm_notebook(max_features_list):\n",
    "    vectorizer = TfidfVectorizer(max_features = i, norm = None)\n",
    "    train_X = vectorizer.fit_transform(train_texts)\n",
    "    test_X  = vectorizer.transform(test_texts)\n",
    "    \n",
    "    logit = LogisticRegression()\n",
    "    logit_gs = GridSearchCV(logit,  \n",
    "                      parameters,\n",
    "                      scoring='accuracy',\n",
    "                      cv=5) \n",
    "    logit_gs.fit(train_X, train_y)\n",
    "    params_data = pd.DataFrame(columns=['C', 'penalty'], index=['Vectorizer Max Features - ' + str(i)])\n",
    "    params_data['C'] = logit_gs.best_params_['C']\n",
    "    params_data['penalty'] = logit_gs.best_params_['penalty']\n",
    "    params_final = pd.concat((params_final, params_data), axis=0)\n",
    "    logit_pred = logit_gs.predict(test_X)\n",
    "    logit_pred_prob = logit_gs.predict_proba(test_X)[:, 1]\n",
    "    logit_report = quality_report(logit_pred, logit_pred_prob, test_y, 'Vectorizer Max Features - ' + str(i))\n",
    "    \n",
    "    report_final = pd.concat((report_final, logit_report), axis=0)"
   ]
  },
  {
   "cell_type": "markdown",
   "metadata": {},
   "source": [
    "Посмотрим на полученные метрики по моделям."
   ]
  },
  {
   "cell_type": "code",
   "execution_count": 22,
   "metadata": {},
   "outputs": [
    {
     "data": {
      "text/html": [
       "<div>\n",
       "<style scoped>\n",
       "    .dataframe tbody tr th:only-of-type {\n",
       "        vertical-align: middle;\n",
       "    }\n",
       "\n",
       "    .dataframe tbody tr th {\n",
       "        vertical-align: top;\n",
       "    }\n",
       "\n",
       "    .dataframe thead th {\n",
       "        text-align: right;\n",
       "    }\n",
       "</style>\n",
       "<table border=\"1\" class=\"dataframe\">\n",
       "  <thead>\n",
       "    <tr style=\"text-align: right;\">\n",
       "      <th></th>\n",
       "      <th>Accuracy</th>\n",
       "      <th>Precision</th>\n",
       "      <th>Recall</th>\n",
       "      <th>f1_score</th>\n",
       "      <th>ROC-AUC</th>\n",
       "    </tr>\n",
       "  </thead>\n",
       "  <tbody>\n",
       "    <tr>\n",
       "      <th>Vectorizer Max Features - 100</th>\n",
       "      <td>0.751</td>\n",
       "      <td>0.751</td>\n",
       "      <td>0.751</td>\n",
       "      <td>0.751</td>\n",
       "      <td>0.823</td>\n",
       "    </tr>\n",
       "    <tr>\n",
       "      <th>Vectorizer Max Features - 200</th>\n",
       "      <td>0.802</td>\n",
       "      <td>0.814</td>\n",
       "      <td>0.795</td>\n",
       "      <td>0.804</td>\n",
       "      <td>0.877</td>\n",
       "    </tr>\n",
       "    <tr>\n",
       "      <th>Vectorizer Max Features - 300</th>\n",
       "      <td>0.830</td>\n",
       "      <td>0.845</td>\n",
       "      <td>0.821</td>\n",
       "      <td>0.833</td>\n",
       "      <td>0.905</td>\n",
       "    </tr>\n",
       "    <tr>\n",
       "      <th>Vectorizer Max Features - 500</th>\n",
       "      <td>0.852</td>\n",
       "      <td>0.862</td>\n",
       "      <td>0.845</td>\n",
       "      <td>0.854</td>\n",
       "      <td>0.924</td>\n",
       "    </tr>\n",
       "    <tr>\n",
       "      <th>Vectorizer Max Features - 1000</th>\n",
       "      <td>0.867</td>\n",
       "      <td>0.877</td>\n",
       "      <td>0.860</td>\n",
       "      <td>0.868</td>\n",
       "      <td>0.936</td>\n",
       "    </tr>\n",
       "    <tr>\n",
       "      <th>Vectorizer Max Features - 5000</th>\n",
       "      <td>0.887</td>\n",
       "      <td>0.895</td>\n",
       "      <td>0.881</td>\n",
       "      <td>0.888</td>\n",
       "      <td>0.950</td>\n",
       "    </tr>\n",
       "    <tr>\n",
       "      <th>Vectorizer Max Features - 10000</th>\n",
       "      <td>0.893</td>\n",
       "      <td>0.899</td>\n",
       "      <td>0.887</td>\n",
       "      <td>0.893</td>\n",
       "      <td>0.954</td>\n",
       "    </tr>\n",
       "    <tr>\n",
       "      <th>Vectorizer Max Features - 20000</th>\n",
       "      <td>0.895</td>\n",
       "      <td>0.902</td>\n",
       "      <td>0.890</td>\n",
       "      <td>0.896</td>\n",
       "      <td>0.956</td>\n",
       "    </tr>\n",
       "  </tbody>\n",
       "</table>\n",
       "</div>"
      ],
      "text/plain": [
       "                                 Accuracy  Precision  Recall  f1_score  \\\n",
       "Vectorizer Max Features - 100       0.751      0.751   0.751     0.751   \n",
       "Vectorizer Max Features - 200       0.802      0.814   0.795     0.804   \n",
       "Vectorizer Max Features - 300       0.830      0.845   0.821     0.833   \n",
       "Vectorizer Max Features - 500       0.852      0.862   0.845     0.854   \n",
       "Vectorizer Max Features - 1000      0.867      0.877   0.860     0.868   \n",
       "Vectorizer Max Features - 5000      0.887      0.895   0.881     0.888   \n",
       "Vectorizer Max Features - 10000     0.893      0.899   0.887     0.893   \n",
       "Vectorizer Max Features - 20000     0.895      0.902   0.890     0.896   \n",
       "\n",
       "                                 ROC-AUC  \n",
       "Vectorizer Max Features - 100      0.823  \n",
       "Vectorizer Max Features - 200      0.877  \n",
       "Vectorizer Max Features - 300      0.905  \n",
       "Vectorizer Max Features - 500      0.924  \n",
       "Vectorizer Max Features - 1000     0.936  \n",
       "Vectorizer Max Features - 5000     0.950  \n",
       "Vectorizer Max Features - 10000    0.954  \n",
       "Vectorizer Max Features - 20000    0.956  "
      ]
     },
     "execution_count": 22,
     "metadata": {},
     "output_type": "execute_result"
    }
   ],
   "source": [
    "report_final"
   ]
  },
  {
   "cell_type": "markdown",
   "metadata": {},
   "source": [
    "Как мы видим, чем больше слов мы передаем в векторайзер, тем наша модель становится лучше. Также можно отметить, что при 10000 и 20000 слов, мы получаем практически схожие результаты. По метрикам можно сделать вывод, что мы получили очень хорошую модель предсказания типа отзыва к фильму.\n",
    "\n",
    "Теперь построим финальную модель с учетом выбранных параметров. Посмотрим на подобранные параметры регуляризации."
   ]
  },
  {
   "cell_type": "code",
   "execution_count": 23,
   "metadata": {},
   "outputs": [
    {
     "data": {
      "text/html": [
       "<div>\n",
       "<style scoped>\n",
       "    .dataframe tbody tr th:only-of-type {\n",
       "        vertical-align: middle;\n",
       "    }\n",
       "\n",
       "    .dataframe tbody tr th {\n",
       "        vertical-align: top;\n",
       "    }\n",
       "\n",
       "    .dataframe thead th {\n",
       "        text-align: right;\n",
       "    }\n",
       "</style>\n",
       "<table border=\"1\" class=\"dataframe\">\n",
       "  <thead>\n",
       "    <tr style=\"text-align: right;\">\n",
       "      <th></th>\n",
       "      <th>C</th>\n",
       "      <th>penalty</th>\n",
       "    </tr>\n",
       "  </thead>\n",
       "  <tbody>\n",
       "    <tr>\n",
       "      <th>Vectorizer Max Features - 100</th>\n",
       "      <td>0.001</td>\n",
       "      <td>l2</td>\n",
       "    </tr>\n",
       "    <tr>\n",
       "      <th>Vectorizer Max Features - 200</th>\n",
       "      <td>0.001</td>\n",
       "      <td>l2</td>\n",
       "    </tr>\n",
       "    <tr>\n",
       "      <th>Vectorizer Max Features - 300</th>\n",
       "      <td>0.010</td>\n",
       "      <td>l2</td>\n",
       "    </tr>\n",
       "    <tr>\n",
       "      <th>Vectorizer Max Features - 500</th>\n",
       "      <td>0.001</td>\n",
       "      <td>l2</td>\n",
       "    </tr>\n",
       "    <tr>\n",
       "      <th>Vectorizer Max Features - 1000</th>\n",
       "      <td>0.001</td>\n",
       "      <td>l2</td>\n",
       "    </tr>\n",
       "    <tr>\n",
       "      <th>Vectorizer Max Features - 5000</th>\n",
       "      <td>0.001</td>\n",
       "      <td>l2</td>\n",
       "    </tr>\n",
       "    <tr>\n",
       "      <th>Vectorizer Max Features - 10000</th>\n",
       "      <td>0.001</td>\n",
       "      <td>l2</td>\n",
       "    </tr>\n",
       "    <tr>\n",
       "      <th>Vectorizer Max Features - 20000</th>\n",
       "      <td>0.001</td>\n",
       "      <td>l2</td>\n",
       "    </tr>\n",
       "  </tbody>\n",
       "</table>\n",
       "</div>"
      ],
      "text/plain": [
       "                                     C penalty\n",
       "Vectorizer Max Features - 100    0.001      l2\n",
       "Vectorizer Max Features - 200    0.001      l2\n",
       "Vectorizer Max Features - 300    0.010      l2\n",
       "Vectorizer Max Features - 500    0.001      l2\n",
       "Vectorizer Max Features - 1000   0.001      l2\n",
       "Vectorizer Max Features - 5000   0.001      l2\n",
       "Vectorizer Max Features - 10000  0.001      l2\n",
       "Vectorizer Max Features - 20000  0.001      l2"
      ]
     },
     "execution_count": 23,
     "metadata": {},
     "output_type": "execute_result"
    }
   ],
   "source": [
    "params_final"
   ]
  },
  {
   "cell_type": "markdown",
   "metadata": {},
   "source": [
    "Построим модель с выбранными параметрами. Параметры в векторайзере уже подобраны верные, так как в цикле мы пришли к 20 000."
   ]
  },
  {
   "cell_type": "code",
   "execution_count": 28,
   "metadata": {},
   "outputs": [],
   "source": [
    "final_model = LogisticRegression(C=0.001, penalty='l2').fit(train_X, train_y)"
   ]
  },
  {
   "cell_type": "markdown",
   "metadata": {},
   "source": [
    "Сделаем предсказание для тестовых данных"
   ]
  },
  {
   "cell_type": "code",
   "execution_count": 29,
   "metadata": {},
   "outputs": [],
   "source": [
    "model_pred = final_model.predict(test_X)"
   ]
  },
  {
   "cell_type": "markdown",
   "metadata": {},
   "source": [
    "Запишем функцию для декодирования целевой переменной и предсказанных значений."
   ]
  },
  {
   "cell_type": "code",
   "execution_count": 30,
   "metadata": {},
   "outputs": [],
   "source": [
    "def num2label(y):\n",
    "    if y == 1:\n",
    "        return 'positive'\n",
    "    if y == 0:\n",
    "        return 'negative'\n",
    "    \n",
    "decoded_pred = [num2label(y) for y in model_pred]\n",
    "decoded_test_y = [num2label(y) for y in test_y]"
   ]
  },
  {
   "cell_type": "markdown",
   "metadata": {},
   "source": [
    "Посмотрим на несколько примеров."
   ]
  },
  {
   "cell_type": "code",
   "execution_count": 33,
   "metadata": {},
   "outputs": [
    {
     "name": "stdout",
     "output_type": "stream",
     "text": [
      "Истинный лейбл: negative\n",
      "Предсказанный лейбл: positive\n",
      "Текст отзыва:  yes mtv realli way market daria start clever teenag angst -\" comment everyth suck make viewer feel better sucki teenag life sitcom mutat deal problem \"- charad use watch daria time love sit watch call movi wonder point daria tell us lead life colleg excus point daria made everi episod like ok long ok matter rest sick sad world think entir thing remind scene realiti bite movi channel show documentri first time...\n",
      "\n",
      "\n",
      "Истинный лейбл: negative\n",
      "Предсказанный лейбл: negative\n",
      "Текст отзыва:  stori bride fair amus engag one filmmak credit set portray rural minnesotan respect ordinarili reserv coast dweller weird though find independ movi brainchild singl person unambiti cliché ridden committe brew hollywood potboil portrait rural peopl intend affection think charact ring true -- quit meal small town diner never overheard debat merit differ nineteenth centuri english novelist one might suggest writer director seman experi rural cultur coen brother consider less satir verv...\n",
      "\n",
      "\n",
      "Истинный лейбл: positive\n",
      "Предсказанный лейбл: positive\n",
      "Текст отзыва:  team vari sculli mulder two scientist pilot guy play bana seinfeld go arctic research post member die either kill kill discov worm virus parasit point mad death problem certain dog lash anyon could infect favorit episod season 1 also one favorit show arctic environ enclos charact cours like carpent thing lot fun watch even temper charact sudden start flip dramat scene visual effect worm effect skin cheesi mind drama charact end work would usual tension actor includ bana guy understand go stori u...\n",
      "\n",
      "\n",
      "Истинный лейбл: negative\n",
      "Предсказанный лейбл: negative\n",
      "Текст отзыва:  popular movi probabl humor fast move stori underdog charact shut loudmouth etc funni thing probabl make movi titl substitut anybodi white anyth els would deem racist pc polic nonetheless woodi harrleson white guy turn good better black basketbal player interest main counterpart wesley snipe snipe lot funni put line provid much humor bad part film bother lot peopl extrem profan sleazi charact includ woodi girlfriend play rosi perez realli clean nice peopl movi reason honest recommend film least f...\n",
      "\n",
      "\n",
      "Истинный лейбл: negative\n",
      "Предсказанный лейбл: negative\n",
      "Текст отзыва:  movi made angri !! think new horror movi one w sens intellig movi start sceneri deliveri line costum fake gore must go porno movi better dialog understand concept behind indi movi good indi high school book report shot w camcord cast friend relat 1 movi doom begin mayb instead new millennium movi could fli seem someon hung rock around albatross neck sink constant rate speed...\n",
      "\n",
      "\n"
     ]
    }
   ],
   "source": [
    "for i in range(5):\n",
    "    print('Истинный лейбл:',decoded_test_y[i])\n",
    "    print('Предсказанный лейбл:',decoded_pred[i])\n",
    "    print('Текст отзыва: ', test_texts[i][:500]+'...')\n",
    "    print('\\n')"
   ]
  },
  {
   "cell_type": "markdown",
   "metadata": {},
   "source": [
    "Как мы видим, из 5 отзывов к фильмов наша модель верно предсказала значения для 4 отзывов."
   ]
  },
  {
   "cell_type": "code",
   "execution_count": null,
   "metadata": {},
   "outputs": [],
   "source": []
  },
  {
   "cell_type": "code",
   "execution_count": null,
   "metadata": {},
   "outputs": [],
   "source": []
  }
 ],
 "metadata": {
  "kernelspec": {
   "display_name": "Python 3",
   "language": "python",
   "name": "python3"
  },
  "language_info": {
   "codemirror_mode": {
    "name": "ipython",
    "version": 3
   },
   "file_extension": ".py",
   "mimetype": "text/x-python",
   "name": "python",
   "nbconvert_exporter": "python",
   "pygments_lexer": "ipython3",
   "version": "3.8.3"
  }
 },
 "nbformat": 4,
 "nbformat_minor": 4
}
